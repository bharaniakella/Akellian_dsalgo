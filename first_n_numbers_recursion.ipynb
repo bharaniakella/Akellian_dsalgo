{
  "nbformat": 4,
  "nbformat_minor": 0,
  "metadata": {
    "colab": {
      "provenance": [],
      "authorship_tag": "ABX9TyObP6x5kJlYdi2HpyZ2ar2E",
      "include_colab_link": true
    },
    "kernelspec": {
      "name": "python3",
      "display_name": "Python 3"
    },
    "language_info": {
      "name": "python"
    }
  },
  "cells": [
    {
      "cell_type": "markdown",
      "metadata": {
        "id": "view-in-github",
        "colab_type": "text"
      },
      "source": [
        "<a href=\"https://colab.research.google.com/github/bharaniakella/akellian_greatness/blob/main/first_n_numbers_recursion.ipynb\" target=\"_parent\"><img src=\"https://colab.research.google.com/assets/colab-badge.svg\" alt=\"Open In Colab\"/></a>"
      ]
    },
    {
      "cell_type": "code",
      "execution_count": 1,
      "metadata": {
        "id": "xq9OPp5Ras9v"
      },
      "outputs": [],
      "source": [
        "def first_n(n):\n",
        "  if(n<1):\n",
        "    return None\n",
        "  else:\n",
        "    first_n(n-1)\n",
        "    print(n)"
      ]
    },
    {
      "cell_type": "code",
      "source": [
        "first_n(5)"
      ],
      "metadata": {
        "colab": {
          "base_uri": "https://localhost:8080/"
        },
        "id": "AH5aId5qa7ZI",
        "outputId": "d696f2d8-6dad-4bc4-f9af-4ef19d1ab456"
      },
      "execution_count": 2,
      "outputs": [
        {
          "output_type": "stream",
          "name": "stdout",
          "text": [
            "1\n",
            "2\n",
            "3\n",
            "4\n",
            "5\n"
          ]
        }
      ]
    },
    {
      "cell_type": "code",
      "source": [],
      "metadata": {
        "id": "CAwAmm9Ya9Rq"
      },
      "execution_count": null,
      "outputs": []
    }
  ]
}