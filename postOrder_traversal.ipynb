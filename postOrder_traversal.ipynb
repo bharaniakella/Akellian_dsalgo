{
  "nbformat": 4,
  "nbformat_minor": 0,
  "metadata": {
    "colab": {
      "provenance": [],
      "authorship_tag": "ABX9TyN12i9fLsCJGzeJCrgNoaQS",
      "include_colab_link": true
    },
    "kernelspec": {
      "name": "python3",
      "display_name": "Python 3"
    },
    "language_info": {
      "name": "python"
    }
  },
  "cells": [
    {
      "cell_type": "markdown",
      "metadata": {
        "id": "view-in-github",
        "colab_type": "text"
      },
      "source": [
        "<a href=\"https://colab.research.google.com/github/bharaniakella/akellian_greatness/blob/main/postOrder_traversal.ipynb\" target=\"_parent\"><img src=\"https://colab.research.google.com/assets/colab-badge.svg\" alt=\"Open In Colab\"/></a>"
      ]
    },
    {
      "cell_type": "code",
      "execution_count": 3,
      "metadata": {
        "id": "h2x98AszYr34"
      },
      "outputs": [],
      "source": [
        "class TreeNode:\n",
        "  def __init__(self,data):\n",
        "    self.data=data\n",
        "    self.leftChild=None\n",
        "    self.rightChild=None\n"
      ]
    },
    {
      "cell_type": "code",
      "source": [
        "btNode=TreeNode('Beverage')\n",
        "hot=TreeNode('hot')\n",
        "cold=TreeNode('cold')\n",
        "tea=TreeNode('tea')\n",
        "coffee=TreeNode('coffee')\n",
        "beer=TreeNode('beer')\n",
        "pepsi=TreeNode('pepsi')\n",
        "\n",
        "btNode.leftChild=hot\n",
        "btNode.rightChild=cold\n",
        "\n",
        "hot.leftChild=tea\n",
        "hot.rightChild=coffee\n",
        "\n",
        "cold.leftChild=beer\n",
        "cold.rightChild=pepsi\n",
        "\n",
        "def postOrder(rootNode):\n",
        "  if not rootNode:\n",
        "    return\n",
        "  postOrder(rootNode.leftChild)\n",
        "  postOrder(rootNode.rightChild)\n",
        "  print(rootNode.data)\n"
      ],
      "metadata": {
        "id": "oy2Kr7mHY4Iz"
      },
      "execution_count": 7,
      "outputs": []
    },
    {
      "cell_type": "code",
      "source": [
        "postOrder(btNode)"
      ],
      "metadata": {
        "colab": {
          "base_uri": "https://localhost:8080/"
        },
        "id": "zr5pLMbNZ1i2",
        "outputId": "a399d6e7-0d13-4afc-8fa6-52c1790b17cf"
      },
      "execution_count": 8,
      "outputs": [
        {
          "output_type": "stream",
          "name": "stdout",
          "text": [
            "tea\n",
            "coffee\n",
            "hot\n",
            "beer\n",
            "pepsi\n",
            "cold\n",
            "Beverage\n"
          ]
        }
      ]
    },
    {
      "cell_type": "code",
      "source": [],
      "metadata": {
        "id": "84XZGh61Z4SM"
      },
      "execution_count": null,
      "outputs": []
    }
  ]
}