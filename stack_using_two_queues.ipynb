{
  "nbformat": 4,
  "nbformat_minor": 0,
  "metadata": {
    "colab": {
      "provenance": [],
      "authorship_tag": "ABX9TyMHsJHqcl4P9E41or1U9waG",
      "include_colab_link": true
    },
    "kernelspec": {
      "name": "python3",
      "display_name": "Python 3"
    },
    "language_info": {
      "name": "python"
    }
  },
  "cells": [
    {
      "cell_type": "markdown",
      "metadata": {
        "id": "view-in-github",
        "colab_type": "text"
      },
      "source": [
        "<a href=\"https://colab.research.google.com/github/bharaniakella/akellian_greatness/blob/main/stack_using_two_queues.ipynb\" target=\"_parent\"><img src=\"https://colab.research.google.com/assets/colab-badge.svg\" alt=\"Open In Colab\"/></a>"
      ]
    },
    {
      "cell_type": "code",
      "execution_count": null,
      "metadata": {
        "id": "5MoiUacvoEbn"
      },
      "outputs": [],
      "source": [
        "from queue import Queue\n",
        "class MyStack:\n",
        "\n",
        "    def __init__(self):\n",
        "        self.q1=Queue()\n",
        "        self.q2=Queue()\n",
        "\n",
        "    def push(self, x: int) -> None:\n",
        "        self.q2.put(x)\n",
        "        while(not self.q1.empty()):\n",
        "            self.q2.put(self.q1.get())\n",
        "        temp=self.q2\n",
        "        self.q2=self.q1\n",
        "        self.q1=temp\n",
        "\n",
        "\n",
        "    def pop(self) -> int:\n",
        "        n=self.q1.get()\n",
        "        return n\n",
        "\n",
        "    def top(self) -> int:\n",
        "        return self.q1.queue[0]\n",
        "\n",
        "\n",
        "    def empty(self) -> bool:\n",
        "        return self.q1.empty()"
      ]
    }
  ]
}