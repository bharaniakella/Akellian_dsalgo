{
  "nbformat": 4,
  "nbformat_minor": 0,
  "metadata": {
    "colab": {
      "provenance": [],
      "authorship_tag": "ABX9TyNuExxmxnh4y289j0qr0Uoz",
      "include_colab_link": true
    },
    "kernelspec": {
      "name": "python3",
      "display_name": "Python 3"
    },
    "language_info": {
      "name": "python"
    }
  },
  "cells": [
    {
      "cell_type": "markdown",
      "metadata": {
        "id": "view-in-github",
        "colab_type": "text"
      },
      "source": [
        "<a href=\"https://colab.research.google.com/github/bharaniakella/akellian_greatness/blob/main/levelOrder_traversal.ipynb\" target=\"_parent\"><img src=\"https://colab.research.google.com/assets/colab-badge.svg\" alt=\"Open In Colab\"/></a>"
      ]
    },
    {
      "cell_type": "code",
      "execution_count": 1,
      "metadata": {
        "id": "MWR1P21LgK5D"
      },
      "outputs": [],
      "source": [
        "from queue import Queue\n",
        "\n",
        "class TreeNode:\n",
        "  def __init__(self,data):\n",
        "    self.data=data\n",
        "    self.leftChild=None\n",
        "    self.rightChild=None\n"
      ]
    },
    {
      "cell_type": "code",
      "source": [
        "btNode=TreeNode('Beverage')\n",
        "hot=TreeNode('hot')\n",
        "cold=TreeNode('cold')\n",
        "tea=TreeNode('tea')\n",
        "coffee=TreeNode('coffee')\n",
        "beer=TreeNode('beer')\n",
        "pepsi=TreeNode('pepsi')\n",
        "\n",
        "btNode.leftChild=hot\n",
        "btNode.rightChild=cold\n",
        "\n",
        "hot.leftChild=tea\n",
        "hot.rightChild=coffee\n",
        "\n",
        "cold.leftChild=beer\n",
        "cold.rightChild=pepsi\n",
        "\n",
        "\n",
        "def levelOrder(rootNode):\n",
        "  my_q=Queue()\n",
        "  my_q.put(rootNode)\n",
        "  while(not my_q.empty()):\n",
        "    node=my_q.get()\n",
        "    if(node.leftChild):\n",
        "      my_q.put(node.leftChild)\n",
        "    if(node.rightChild):\n",
        "      my_q.put(node.rightChild)\n",
        "\n",
        "    print(node.data)"
      ],
      "metadata": {
        "id": "DagViq2OgcZG"
      },
      "execution_count": 6,
      "outputs": []
    },
    {
      "cell_type": "code",
      "source": [
        "levelOrder(btNode)"
      ],
      "metadata": {
        "colab": {
          "base_uri": "https://localhost:8080/"
        },
        "id": "5DlMoIzTqDZT",
        "outputId": "dd1ff9ff-5216-439f-a1fe-deee1c602181"
      },
      "execution_count": 7,
      "outputs": [
        {
          "output_type": "stream",
          "name": "stdout",
          "text": [
            "Beverage\n",
            "hot\n",
            "cold\n",
            "tea\n",
            "coffee\n",
            "beer\n",
            "pepsi\n"
          ]
        }
      ]
    },
    {
      "cell_type": "code",
      "source": [],
      "metadata": {
        "id": "FeuPCTsjqGU0"
      },
      "execution_count": null,
      "outputs": []
    }
  ]
}