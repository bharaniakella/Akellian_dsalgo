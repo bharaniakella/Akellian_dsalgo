{
  "nbformat": 4,
  "nbformat_minor": 0,
  "metadata": {
    "colab": {
      "provenance": [],
      "authorship_tag": "ABX9TyOgmp6R4iKrAn+dDai9CWcv",
      "include_colab_link": true
    },
    "kernelspec": {
      "name": "python3",
      "display_name": "Python 3"
    },
    "language_info": {
      "name": "python"
    }
  },
  "cells": [
    {
      "cell_type": "markdown",
      "metadata": {
        "id": "view-in-github",
        "colab_type": "text"
      },
      "source": [
        "<a href=\"https://colab.research.google.com/github/bharaniakella/Akellian_dsalgo/blob/main/search_in_rotated_sorted_Array.ipynb\" target=\"_parent\"><img src=\"https://colab.research.google.com/assets/colab-badge.svg\" alt=\"Open In Colab\"/></a>"
      ]
    },
    {
      "cell_type": "code",
      "execution_count": null,
      "metadata": {
        "id": "2lXkicfQgD3f"
      },
      "outputs": [],
      "source": [
        "class Solution:\n",
        "    def search(self, nums: List[int], target: int) -> int:\n",
        "\n",
        "        low=0\n",
        "        high=len(nums)-1\n",
        "        while(low<=high):\n",
        "            mid=low+(high-low)//2\n",
        "            if(nums[mid]==target):\n",
        "                return mid\n",
        "            if(nums[low]<=nums[mid]):\n",
        "                if(nums[low]<=target<=nums[mid]):\n",
        "                    high=mid-1\n",
        "                else:\n",
        "                    low=mid+1\n",
        "            else:\n",
        "                if(nums[mid+1]<=target<=nums[high]):\n",
        "                    low=mid+1\n",
        "                else:\n",
        "                    high=mid-1\n",
        "        return -1"
      ]
    }
  ]
}