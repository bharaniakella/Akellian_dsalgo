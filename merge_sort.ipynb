{
  "nbformat": 4,
  "nbformat_minor": 0,
  "metadata": {
    "colab": {
      "provenance": [],
      "authorship_tag": "ABX9TyPrh1qiYd/TYyoL+YhWhDMf",
      "include_colab_link": true
    },
    "kernelspec": {
      "name": "python3",
      "display_name": "Python 3"
    },
    "language_info": {
      "name": "python"
    }
  },
  "cells": [
    {
      "cell_type": "markdown",
      "metadata": {
        "id": "view-in-github",
        "colab_type": "text"
      },
      "source": [
        "<a href=\"https://colab.research.google.com/github/bharaniakella/Akellian_dsalgo/blob/main/merge_sort.ipynb\" target=\"_parent\"><img src=\"https://colab.research.google.com/assets/colab-badge.svg\" alt=\"Open In Colab\"/></a>"
      ]
    },
    {
      "cell_type": "code",
      "execution_count": 24,
      "metadata": {
        "id": "WcOpmXhWAnOA"
      },
      "outputs": [],
      "source": [
        "import numpy as np"
      ]
    },
    {
      "cell_type": "code",
      "source": [
        "def merge_sort(arr, low, high):\n",
        "    if low == high:\n",
        "        return\n",
        "    mid = (low + high) // 2\n",
        "    merge_sort(arr, low, mid)\n",
        "    merge_sort(arr, mid + 1, high)\n",
        "    merge(arr, low, mid, high)\n",
        "    return arr\n",
        "\n",
        "def merge(arr, low, mid, high):\n",
        "    temp = []\n",
        "    left = low\n",
        "    right = mid + 1\n",
        "\n",
        "    while left <= mid and right <= high:\n",
        "        if arr[left] <= arr[right]:\n",
        "            temp.append(arr[left])\n",
        "            left = left + 1\n",
        "        else:\n",
        "            temp.append(arr[right])\n",
        "            right = right + 1\n",
        "\n",
        "    while left <= mid:\n",
        "        temp.append(arr[left])\n",
        "        left = left + 1\n",
        "\n",
        "    while right <= high:\n",
        "        temp.append(arr[right])\n",
        "        right = right + 1\n",
        "\n",
        "    for i in range(low, high + 1):\n",
        "        arr[i] = temp[i - low]\n",
        "\n",
        "# Example usage:\n",
        "arr = np.array([3,1,2,4,1,5,2,6,4])\n",
        "result = merge_sort(arr, 0, len(arr) - 1)\n",
        "print(result)\n"
      ],
      "metadata": {
        "colab": {
          "base_uri": "https://localhost:8080/"
        },
        "id": "LXr7AwUWCb4g",
        "outputId": "325e2d2a-22df-40db-a8c9-1292ad4b23b7"
      },
      "execution_count": 25,
      "outputs": [
        {
          "output_type": "stream",
          "name": "stdout",
          "text": [
            "[1 1 2 2 3 4 4 5 6]\n"
          ]
        }
      ]
    },
    {
      "cell_type": "code",
      "source": [],
      "metadata": {
        "id": "wURPYjF_DTXk"
      },
      "execution_count": null,
      "outputs": []
    }
  ]
}