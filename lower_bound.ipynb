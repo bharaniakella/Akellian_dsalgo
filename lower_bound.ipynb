{
  "nbformat": 4,
  "nbformat_minor": 0,
  "metadata": {
    "colab": {
      "provenance": [],
      "authorship_tag": "ABX9TyOx0s6osMPf5bgMVPr2U7AF",
      "include_colab_link": true
    },
    "kernelspec": {
      "name": "python3",
      "display_name": "Python 3"
    },
    "language_info": {
      "name": "python"
    }
  },
  "cells": [
    {
      "cell_type": "markdown",
      "metadata": {
        "id": "view-in-github",
        "colab_type": "text"
      },
      "source": [
        "<a href=\"https://colab.research.google.com/github/bharaniakella/akellian_greatness/blob/main/lower_bound.ipynb\" target=\"_parent\"><img src=\"https://colab.research.google.com/assets/colab-badge.svg\" alt=\"Open In Colab\"/></a>"
      ]
    },
    {
      "cell_type": "code",
      "execution_count": 1,
      "metadata": {
        "id": "Sqmfa25U6N9r"
      },
      "outputs": [],
      "source": [
        "import numpy as np\n",
        "arr=np.array([10,20,30,40,41,44,45,50])"
      ]
    },
    {
      "cell_type": "code",
      "source": [
        "def lower_bound(arr,target):\n",
        "  low=0\n",
        "  high=len(arr)-1\n",
        "  ans=len(arr)\n",
        "  while(low<=high):\n",
        "    mid=low+(high-low)//2\n",
        "    if(arr[mid]<target):\n",
        "      low=mid+1\n",
        "    elif(arr[mid]>=target):\n",
        "      ans=mid\n",
        "      high=mid-1\n",
        "  return ans\n"
      ],
      "metadata": {
        "id": "EhQL3rq06eNd"
      },
      "execution_count": 10,
      "outputs": []
    },
    {
      "cell_type": "code",
      "source": [
        "lower_bound(arr,43)"
      ],
      "metadata": {
        "colab": {
          "base_uri": "https://localhost:8080/"
        },
        "id": "w8ugN0Wt7b3R",
        "outputId": "67da8b55-9f61-4314-f37b-388283deb134"
      },
      "execution_count": 12,
      "outputs": [
        {
          "output_type": "execute_result",
          "data": {
            "text/plain": [
              "5"
            ]
          },
          "metadata": {},
          "execution_count": 12
        }
      ]
    },
    {
      "cell_type": "code",
      "source": [],
      "metadata": {
        "id": "e1lO2Crf7dvU"
      },
      "execution_count": null,
      "outputs": []
    }
  ]
}