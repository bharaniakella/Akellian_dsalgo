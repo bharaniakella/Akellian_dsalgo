{
  "nbformat": 4,
  "nbformat_minor": 0,
  "metadata": {
    "colab": {
      "provenance": [],
      "authorship_tag": "ABX9TyM02zEv+pG/FisLLRdotLe6",
      "include_colab_link": true
    },
    "kernelspec": {
      "name": "python3",
      "display_name": "Python 3"
    },
    "language_info": {
      "name": "python"
    }
  },
  "cells": [
    {
      "cell_type": "markdown",
      "metadata": {
        "id": "view-in-github",
        "colab_type": "text"
      },
      "source": [
        "<a href=\"https://colab.research.google.com/github/bharaniakella/akellian_greatness/blob/main/insert_node_binary_tree.ipynb\" target=\"_parent\"><img src=\"https://colab.research.google.com/assets/colab-badge.svg\" alt=\"Open In Colab\"/></a>"
      ]
    },
    {
      "cell_type": "code",
      "execution_count": 27,
      "metadata": {
        "id": "5zGgxJp-4jS4"
      },
      "outputs": [],
      "source": [
        "from queue import Queue\n",
        "\n",
        "class TreeNode:\n",
        "  def __init__(self,data):\n",
        "    self.data=data\n",
        "    self.leftChild=None\n",
        "    self.rightChild=None\n"
      ]
    },
    {
      "cell_type": "code",
      "source": [
        "def levelOrder(rootNode):\n",
        "  if not rootNode:\n",
        "    return\n",
        "  my_q=Queue()\n",
        "  my_q.put(rootNode)\n",
        "  while(not my_q.empty()):\n",
        "    temp=my_q.get()\n",
        "    if(temp.leftChild):\n",
        "      my_q.put(temp.leftChild)\n",
        "\n",
        "    if(temp.rightChild):\n",
        "      my_q.put(temp.rightChild)\n",
        "\n",
        "    print(temp.data)\n",
        ""
      ],
      "metadata": {
        "id": "ygjHbODD5cM5"
      },
      "execution_count": 28,
      "outputs": []
    },
    {
      "cell_type": "code",
      "source": [
        "def insertNode(rootNode,newNode):\n",
        "  if not rootNode:\n",
        "    rootNode=newNode\n",
        "  else:\n",
        "    my_q=Queue()\n",
        "    my_q.put(rootNode)\n",
        "    while(not my_q.empty()):\n",
        "      temp=my_q.get()\n",
        "      if(temp.leftChild):\n",
        "        my_q.put(temp.leftChild)\n",
        "      else:\n",
        "        temp.leftChild=newNode\n",
        "        return \"successfully inserted\"\n",
        "\n",
        "      if(temp.rightChild):\n",
        "        my_q.put(temp.rightChild)\n",
        "      else:\n",
        "        temp.rightChild=newNode\n",
        "        return \"successfully inserted\"\n",
        "\n"
      ],
      "metadata": {
        "id": "MZewsciA5e0E"
      },
      "execution_count": 33,
      "outputs": []
    },
    {
      "cell_type": "code",
      "source": [
        "btNode=TreeNode(\"beverage\")\n",
        "hot=TreeNode(\"hot\")\n",
        "cold=TreeNode(\"cold\")"
      ],
      "metadata": {
        "id": "xKsVdzgo62LS"
      },
      "execution_count": 34,
      "outputs": []
    },
    {
      "cell_type": "code",
      "source": [
        "levelOrder(btNode)"
      ],
      "metadata": {
        "colab": {
          "base_uri": "https://localhost:8080/"
        },
        "id": "DszT9m6W66zZ",
        "outputId": "e2623ba4-0791-4163-bb40-2ddcd6da492e"
      },
      "execution_count": 35,
      "outputs": [
        {
          "output_type": "stream",
          "name": "stdout",
          "text": [
            "beverage\n"
          ]
        }
      ]
    },
    {
      "cell_type": "code",
      "source": [
        "insertNode(btNode,hot)\n",
        "levelOrder(btNode)"
      ],
      "metadata": {
        "colab": {
          "base_uri": "https://localhost:8080/"
        },
        "id": "mnomeHS97RNO",
        "outputId": "1ce1b959-0d89-41be-ea5c-e53d01cfad50"
      },
      "execution_count": 36,
      "outputs": [
        {
          "output_type": "stream",
          "name": "stdout",
          "text": [
            "beverage\n",
            "hot\n"
          ]
        }
      ]
    },
    {
      "cell_type": "code",
      "source": [
        "insertNode(btNode,cold)\n",
        "levelOrder(btNode)"
      ],
      "metadata": {
        "colab": {
          "base_uri": "https://localhost:8080/"
        },
        "id": "tBWlrhGQ7bZA",
        "outputId": "20b59360-f6ce-4316-be19-300542c3e208"
      },
      "execution_count": 37,
      "outputs": [
        {
          "output_type": "stream",
          "name": "stdout",
          "text": [
            "beverage\n",
            "hot\n",
            "cold\n"
          ]
        }
      ]
    },
    {
      "cell_type": "code",
      "source": [],
      "metadata": {
        "id": "DojdPMvM8c2O"
      },
      "execution_count": null,
      "outputs": []
    }
  ]
}