{
  "nbformat": 4,
  "nbformat_minor": 0,
  "metadata": {
    "colab": {
      "provenance": [],
      "authorship_tag": "ABX9TyOvALSK47NJ4KJrQjLDMqJ1",
      "include_colab_link": true
    },
    "kernelspec": {
      "name": "python3",
      "display_name": "Python 3"
    },
    "language_info": {
      "name": "python"
    }
  },
  "cells": [
    {
      "cell_type": "markdown",
      "metadata": {
        "id": "view-in-github",
        "colab_type": "text"
      },
      "source": [
        "<a href=\"https://colab.research.google.com/github/bharaniakella/Akellian_dsalgo/blob/main/dll_delete_all_occurences_of_key.ipynb\" target=\"_parent\"><img src=\"https://colab.research.google.com/assets/colab-badge.svg\" alt=\"Open In Colab\"/></a>"
      ]
    },
    {
      "cell_type": "code",
      "execution_count": null,
      "metadata": {
        "id": "GLzJcID7GVlV"
      },
      "outputs": [],
      "source": [
        "class Node:\n",
        "    def __init__(self, data=0, next=None, prev=None):\n",
        "        self.data = data\n",
        "        self.next = next\n",
        "        self.prev = prev\n",
        "\n",
        "\n",
        "# Don't change the code above.\n",
        "\n",
        "\n",
        "def deleteAllOccurrences(head: Node, k: int) -> Node:\n",
        "    # Write your code here\n",
        "    temp=head\n",
        "    while(temp):\n",
        "        if(temp.data==k):\n",
        "            if(temp==head):\n",
        "                head=head.next\n",
        "\n",
        "            nextNode=temp.next\n",
        "            prevNode=temp.prev\n",
        "\n",
        "            if(nextNode):\n",
        "                nextNode.prev=prevNode\n",
        "            if(prevNode):\n",
        "                prevNode.next=nextNode\n",
        "\n",
        "            temp=nextNode\n",
        "\n",
        "        else:\n",
        "            temp=temp.next\n",
        "\n",
        "    return head\n",
        "\n",
        "    pass\n"
      ]
    }
  ]
}