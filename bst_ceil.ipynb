{
  "nbformat": 4,
  "nbformat_minor": 0,
  "metadata": {
    "colab": {
      "provenance": [],
      "authorship_tag": "ABX9TyNL7MYqqWARujkwOg6kBzGy",
      "include_colab_link": true
    },
    "kernelspec": {
      "name": "python3",
      "display_name": "Python 3"
    },
    "language_info": {
      "name": "python"
    }
  },
  "cells": [
    {
      "cell_type": "markdown",
      "metadata": {
        "id": "view-in-github",
        "colab_type": "text"
      },
      "source": [
        "<a href=\"https://colab.research.google.com/github/bharaniakella/Akellian_dsalgo/blob/main/bst_ceil.ipynb\" target=\"_parent\"><img src=\"https://colab.research.google.com/assets/colab-badge.svg\" alt=\"Open In Colab\"/></a>"
      ]
    },
    {
      "cell_type": "code",
      "execution_count": null,
      "metadata": {
        "id": "pHnnT4Mc6fi6"
      },
      "outputs": [],
      "source": [
        "def findCeil(root, x):\n",
        "    # Write your code here.\n",
        "    ceil=-1\n",
        "    while(root):\n",
        "        if(root.data==x):\n",
        "            ceil=root.data\n",
        "            return ceil\n",
        "        if(root.data<x):\n",
        "            root=root.right\n",
        "        else:\n",
        "            ceil=root.data\n",
        "            root=root.left\n",
        "    return ceil\n"
      ]
    }
  ]
}