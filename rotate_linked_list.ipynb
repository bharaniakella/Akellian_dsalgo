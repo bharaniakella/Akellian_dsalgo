{
  "nbformat": 4,
  "nbformat_minor": 0,
  "metadata": {
    "colab": {
      "provenance": [],
      "authorship_tag": "ABX9TyPfWq4tF7+5y5DQK5HoLlH0",
      "include_colab_link": true
    },
    "kernelspec": {
      "name": "python3",
      "display_name": "Python 3"
    },
    "language_info": {
      "name": "python"
    }
  },
  "cells": [
    {
      "cell_type": "markdown",
      "metadata": {
        "id": "view-in-github",
        "colab_type": "text"
      },
      "source": [
        "<a href=\"https://colab.research.google.com/github/bharaniakella/Akellian_dsalgo/blob/main/rotate_linked_list.ipynb\" target=\"_parent\"><img src=\"https://colab.research.google.com/assets/colab-badge.svg\" alt=\"Open In Colab\"/></a>"
      ]
    },
    {
      "cell_type": "code",
      "execution_count": null,
      "metadata": {
        "id": "mjukwUbgKt4r"
      },
      "outputs": [],
      "source": [
        "class Solution:\n",
        "    def rotateRight(self, head: Optional[ListNode], k: int) -> Optional[ListNode]:\n",
        "\n",
        "        if(head is None or k==0):\n",
        "            return head\n",
        "\n",
        "        tail=head\n",
        "        leng=1\n",
        "        while(tail.next):\n",
        "            leng=leng+1\n",
        "            tail=tail.next\n",
        "\n",
        "        if(k%leng)==0:\n",
        "            return head\n",
        "\n",
        "        k=k%leng\n",
        "\n",
        "        tail.next=head\n",
        "\n",
        "        cnt=1\n",
        "        temp=head\n",
        "        while(cnt<(leng-k)):\n",
        "            cnt=cnt+1\n",
        "            temp=temp.next\n",
        "\n",
        "        head=temp.next\n",
        "        temp.next=None\n",
        "\n",
        "        return head"
      ]
    }
  ]
}