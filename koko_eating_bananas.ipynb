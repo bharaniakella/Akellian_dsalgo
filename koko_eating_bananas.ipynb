{
  "nbformat": 4,
  "nbformat_minor": 0,
  "metadata": {
    "colab": {
      "provenance": [],
      "authorship_tag": "ABX9TyNU93WAHY90/0uLihlTGXz+",
      "include_colab_link": true
    },
    "kernelspec": {
      "name": "python3",
      "display_name": "Python 3"
    },
    "language_info": {
      "name": "python"
    }
  },
  "cells": [
    {
      "cell_type": "markdown",
      "metadata": {
        "id": "view-in-github",
        "colab_type": "text"
      },
      "source": [
        "<a href=\"https://colab.research.google.com/github/bharaniakella/Akellian_dsalgo/blob/main/koko_eating_bananas.ipynb\" target=\"_parent\"><img src=\"https://colab.research.google.com/assets/colab-badge.svg\" alt=\"Open In Colab\"/></a>"
      ]
    },
    {
      "cell_type": "code",
      "execution_count": null,
      "metadata": {
        "id": "JbdBWN9NYP0U"
      },
      "outputs": [],
      "source": [
        "class Solution:\n",
        "    def minEatingSpeed(self, piles: List[int], h: int) -> int:\n",
        "\n",
        "        def find_max(piles):\n",
        "            max=0\n",
        "            for i in range(len(piles)):\n",
        "                if(piles[i]>max):\n",
        "                    max=piles[i]\n",
        "            return max\n",
        "\n",
        "        def find_total_hours(piles,hourly):\n",
        "            total_hours=0\n",
        "            for i in range(len(piles)):\n",
        "                total_hours+=ceil(piles[i]/hourly)\n",
        "            return total_hours\n",
        "\n",
        "\n",
        "        low=1\n",
        "        high=find_max(piles)\n",
        "        ans=high\n",
        "\n",
        "        while(low<=high):\n",
        "            mid=low+(high-low)//2\n",
        "\n",
        "            total_hours=find_total_hours(piles,mid)\n",
        "\n",
        "            if(total_hours<=h):\n",
        "                ans=mid\n",
        "                high=mid-1\n",
        "            else:\n",
        "                low=mid+1\n",
        "\n",
        "        return ans\n",
        "\n",
        ""
      ]
    }
  ]
}