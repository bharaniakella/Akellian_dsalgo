{
  "nbformat": 4,
  "nbformat_minor": 0,
  "metadata": {
    "colab": {
      "provenance": []
    },
    "kernelspec": {
      "name": "python3",
      "display_name": "Python 3"
    },
    "language_info": {
      "name": "python"
    }
  },
  "cells": [
    {
      "cell_type": "code",
      "execution_count": 1,
      "metadata": {
        "id": "cCzjcaODNw_t"
      },
      "outputs": [],
      "source": [
        "import numpy as np\n",
        "arr=np.array([4,2,5,1,3])"
      ]
    },
    {
      "cell_type": "code",
      "source": [
        "def largest(arr):\n",
        "  max=arr[0]\n",
        "  for i in range(1,len(arr)):\n",
        "    if(arr[i]>max):\n",
        "      max=arr[i]\n",
        "  return max"
      ],
      "metadata": {
        "id": "y7JWG9yEOBd3"
      },
      "execution_count": 2,
      "outputs": []
    },
    {
      "cell_type": "code",
      "source": [
        "largest(arr)"
      ],
      "metadata": {
        "colab": {
          "base_uri": "https://localhost:8080/"
        },
        "id": "H4ZymSkTOJgs",
        "outputId": "c2507f72-44d6-46e1-9515-fc5493f7f3ce"
      },
      "execution_count": 3,
      "outputs": [
        {
          "output_type": "execute_result",
          "data": {
            "text/plain": [
              "5"
            ]
          },
          "metadata": {},
          "execution_count": 3
        }
      ]
    },
    {
      "cell_type": "code",
      "source": [],
      "metadata": {
        "id": "Dx2esf3JOKwE"
      },
      "execution_count": null,
      "outputs": []
    }
  ]
}