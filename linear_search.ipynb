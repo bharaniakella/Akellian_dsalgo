{
  "nbformat": 4,
  "nbformat_minor": 0,
  "metadata": {
    "colab": {
      "provenance": [],
      "authorship_tag": "ABX9TyN6ruWl1HsTiHGkRZyebtP1",
      "include_colab_link": true
    },
    "kernelspec": {
      "name": "python3",
      "display_name": "Python 3"
    },
    "language_info": {
      "name": "python"
    }
  },
  "cells": [
    {
      "cell_type": "markdown",
      "metadata": {
        "id": "view-in-github",
        "colab_type": "text"
      },
      "source": [
        "<a href=\"https://colab.research.google.com/github/bharaniakella/akellian_greatness/blob/main/linear_search.ipynb\" target=\"_parent\"><img src=\"https://colab.research.google.com/assets/colab-badge.svg\" alt=\"Open In Colab\"/></a>"
      ]
    },
    {
      "cell_type": "code",
      "execution_count": 6,
      "metadata": {
        "id": "qb70tCI_OlcU"
      },
      "outputs": [],
      "source": [
        "import numpy as np\n",
        "arr=np.array([4,3,5,2,1])"
      ]
    },
    {
      "cell_type": "code",
      "source": [
        "def lin_search(arr,key):\n",
        "  for i in range(len(arr)):\n",
        "    if(arr[i]==key):\n",
        "      return i\n",
        "  return 'None'\n"
      ],
      "metadata": {
        "id": "GsIkOz9cOt7T"
      },
      "execution_count": 7,
      "outputs": []
    },
    {
      "cell_type": "code",
      "source": [
        "lin_search(arr,4)"
      ],
      "metadata": {
        "colab": {
          "base_uri": "https://localhost:8080/"
        },
        "id": "ufdQCTEVPB09",
        "outputId": "5028a570-ad0a-4164-f00f-135bc2d23e0b"
      },
      "execution_count": 10,
      "outputs": [
        {
          "output_type": "execute_result",
          "data": {
            "text/plain": [
              "0"
            ]
          },
          "metadata": {},
          "execution_count": 10
        }
      ]
    },
    {
      "cell_type": "code",
      "source": [],
      "metadata": {
        "id": "SxwBGdFhPDHq"
      },
      "execution_count": null,
      "outputs": []
    }
  ]
}