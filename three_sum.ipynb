{
  "nbformat": 4,
  "nbformat_minor": 0,
  "metadata": {
    "colab": {
      "provenance": [],
      "authorship_tag": "ABX9TyMtZv6HNxu70MGnaZUoC+n+",
      "include_colab_link": true
    },
    "kernelspec": {
      "name": "python3",
      "display_name": "Python 3"
    },
    "language_info": {
      "name": "python"
    }
  },
  "cells": [
    {
      "cell_type": "markdown",
      "metadata": {
        "id": "view-in-github",
        "colab_type": "text"
      },
      "source": [
        "<a href=\"https://colab.research.google.com/github/bharaniakella/Akellian_dsalgo/blob/main/three_sum.ipynb\" target=\"_parent\"><img src=\"https://colab.research.google.com/assets/colab-badge.svg\" alt=\"Open In Colab\"/></a>"
      ]
    },
    {
      "cell_type": "code",
      "source": [
        "class Solution:\n",
        "    def threeSum(self, nums: List[int]) -> List[List[int]]:\n",
        "        res=[]\n",
        "        nums.sort()\n",
        "        for i,num in enumerate(nums):\n",
        "            if i>0 and num==nums[i-1]:\n",
        "                continue\n",
        "            l=i+1\n",
        "            r=len(nums)-1\n",
        "\n",
        "            while(l<r):\n",
        "                three_sum=num + nums[l] + nums[r]\n",
        "                if(three_sum>0):\n",
        "                    r=r-1\n",
        "                elif(three_sum<0):\n",
        "                    l=l+1\n",
        "                else:\n",
        "                    res.append([num,nums[l],nums[r]])\n",
        "                    l=l+1\n",
        "                    while(nums[l]==nums[l-1]) and l<r:\n",
        "                        l=l+1\n",
        "\n",
        "        return res\n"
      ],
      "metadata": {
        "id": "wBkrAn1748Ce"
      },
      "execution_count": null,
      "outputs": []
    }
  ]
}