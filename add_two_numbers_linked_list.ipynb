{
  "nbformat": 4,
  "nbformat_minor": 0,
  "metadata": {
    "colab": {
      "provenance": [],
      "authorship_tag": "ABX9TyMw2qf3ovMKJcW20s70d0jm",
      "include_colab_link": true
    },
    "kernelspec": {
      "name": "python3",
      "display_name": "Python 3"
    },
    "language_info": {
      "name": "python"
    }
  },
  "cells": [
    {
      "cell_type": "markdown",
      "metadata": {
        "id": "view-in-github",
        "colab_type": "text"
      },
      "source": [
        "<a href=\"https://colab.research.google.com/github/bharaniakella/akellian_greatness/blob/main/add_two_numbers_linked_list.ipynb\" target=\"_parent\"><img src=\"https://colab.research.google.com/assets/colab-badge.svg\" alt=\"Open In Colab\"/></a>"
      ]
    },
    {
      "cell_type": "code",
      "execution_count": null,
      "metadata": {
        "id": "Rz_-SKWm_6WW"
      },
      "outputs": [],
      "source": [
        "# Definition for singly-linked list.\n",
        "# class ListNode(object):\n",
        "#     def __init__(self, val=0, next=None):\n",
        "#         self.val = val\n",
        "#         self.next = next\n",
        "class Solution(object):\n",
        "    def addTwoNumbers(self, l1, l2):\n",
        "        \"\"\"\n",
        "        :type l1: ListNode\n",
        "        :type l2: ListNode\n",
        "        :rtype: ListNode\n",
        "        \"\"\"\n",
        "        t1=l1\n",
        "        t2=l2\n",
        "        carry=0\n",
        "        dummy=ListNode(-1)\n",
        "        curr=dummy\n",
        "        while(t1 or t2):\n",
        "            sum=carry\n",
        "            if(t1):\n",
        "                sum=sum+t1.val\n",
        "            if(t2):\n",
        "                sum=sum+t2.val\n",
        "            newNode=ListNode(sum%10)\n",
        "            carry=sum/10\n",
        "\n",
        "            curr.next=newNode\n",
        "            curr=curr.next\n",
        "\n",
        "            if(t1):\n",
        "                t1=t1.next\n",
        "            if(t2):\n",
        "                t2=t2.next\n",
        "\n",
        "        if(carry):\n",
        "            newNode=ListNode(carry)\n",
        "            curr.next=newNode\n",
        "\n",
        "        return dummy.next\n"
      ]
    }
  ]
}