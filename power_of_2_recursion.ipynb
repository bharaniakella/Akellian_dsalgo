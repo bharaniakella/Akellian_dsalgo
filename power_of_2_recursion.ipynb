{
  "nbformat": 4,
  "nbformat_minor": 0,
  "metadata": {
    "colab": {
      "provenance": [],
      "authorship_tag": "ABX9TyNIF7ZNLqGECSMLomTicBDf",
      "include_colab_link": true
    },
    "kernelspec": {
      "name": "python3",
      "display_name": "Python 3"
    },
    "language_info": {
      "name": "python"
    }
  },
  "cells": [
    {
      "cell_type": "markdown",
      "metadata": {
        "id": "view-in-github",
        "colab_type": "text"
      },
      "source": [
        "<a href=\"https://colab.research.google.com/github/bharaniakella/akellian_greatness/blob/main/power_of_2_recursion.ipynb\" target=\"_parent\"><img src=\"https://colab.research.google.com/assets/colab-badge.svg\" alt=\"Open In Colab\"/></a>"
      ]
    },
    {
      "cell_type": "code",
      "execution_count": 1,
      "metadata": {
        "id": "C7bThk5JEpk9"
      },
      "outputs": [],
      "source": [
        "def pow2(n):\n",
        "  if n<1:\n",
        "    return 1\n",
        "  else:\n",
        "    power=pow2(n-1)\n",
        "    return power*2"
      ]
    },
    {
      "cell_type": "code",
      "source": [
        "pow2(5)"
      ],
      "metadata": {
        "colab": {
          "base_uri": "https://localhost:8080/"
        },
        "id": "wtTjMwRFE9AX",
        "outputId": "443bf657-c23a-4524-bf4b-0bcbd7815767"
      },
      "execution_count": 5,
      "outputs": [
        {
          "output_type": "execute_result",
          "data": {
            "text/plain": [
              "32"
            ]
          },
          "metadata": {},
          "execution_count": 5
        }
      ]
    },
    {
      "cell_type": "code",
      "source": [],
      "metadata": {
        "id": "eelXQx_HE_NP"
      },
      "execution_count": null,
      "outputs": []
    }
  ]
}