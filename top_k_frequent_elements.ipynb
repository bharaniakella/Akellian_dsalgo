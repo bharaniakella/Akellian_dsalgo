{
  "nbformat": 4,
  "nbformat_minor": 0,
  "metadata": {
    "colab": {
      "provenance": [],
      "authorship_tag": "ABX9TyNKNppwqp71U6Sx37W8taLz",
      "include_colab_link": true
    },
    "kernelspec": {
      "name": "python3",
      "display_name": "Python 3"
    },
    "language_info": {
      "name": "python"
    }
  },
  "cells": [
    {
      "cell_type": "markdown",
      "metadata": {
        "id": "view-in-github",
        "colab_type": "text"
      },
      "source": [
        "<a href=\"https://colab.research.google.com/github/bharaniakella/Akellian_dsalgo/blob/main/top_k_frequent_elements.ipynb\" target=\"_parent\"><img src=\"https://colab.research.google.com/assets/colab-badge.svg\" alt=\"Open In Colab\"/></a>"
      ]
    },
    {
      "cell_type": "code",
      "execution_count": 15,
      "metadata": {
        "id": "BDKDNpuTqZg3"
      },
      "outputs": [],
      "source": [
        "class Solution:\n",
        "    def topKFrequent(self, nums: List[int], k: int) -> List[int]:\n",
        "        count={}\n",
        "        freq=[[] for i in range(len(nums)+1)]\n",
        "\n",
        "        for i in nums:\n",
        "            count[i]=1+count.get(i,0)\n",
        "\n",
        "        for n,c in count.items():\n",
        "            freq[c].append(n)\n",
        "\n",
        "        res=[]\n",
        "        for i in range(len(freq)-1,0,-1):\n",
        "            for n in freq[i]:\n",
        "                res.append(n)\n",
        "                if(len(res)==k):\n",
        "                    return res\n"
      ]
    }
  ]
}