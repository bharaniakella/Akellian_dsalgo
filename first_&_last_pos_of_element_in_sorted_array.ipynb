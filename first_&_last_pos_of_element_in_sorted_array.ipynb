{
  "nbformat": 4,
  "nbformat_minor": 0,
  "metadata": {
    "colab": {
      "provenance": [],
      "authorship_tag": "ABX9TyOHDfbKfMj0+/6TV0cLGHG8",
      "include_colab_link": true
    },
    "kernelspec": {
      "name": "python3",
      "display_name": "Python 3"
    },
    "language_info": {
      "name": "python"
    }
  },
  "cells": [
    {
      "cell_type": "markdown",
      "metadata": {
        "id": "view-in-github",
        "colab_type": "text"
      },
      "source": [
        "<a href=\"https://colab.research.google.com/github/bharaniakella/Akellian_dsalgo/blob/main/first_%26_last_pos_of_element_in_sorted_array.ipynb\" target=\"_parent\"><img src=\"https://colab.research.google.com/assets/colab-badge.svg\" alt=\"Open In Colab\"/></a>"
      ]
    },
    {
      "cell_type": "code",
      "execution_count": null,
      "metadata": {
        "id": "FjBZcDcgu9IV"
      },
      "outputs": [],
      "source": [
        "class Solution:\n",
        "    def searchRange(self, nums: List[int], target: int) -> List[int]:\n",
        "        low=0\n",
        "        high=len(nums)-1\n",
        "        first=-1\n",
        "        last=-1\n",
        "        while(low<=high):\n",
        "            mid=low+(high-low)//2\n",
        "\n",
        "            if(nums[mid]<=target):\n",
        "                last=mid\n",
        "                low=mid+1\n",
        "            else:\n",
        "                high=mid-1\n",
        "        if(last==-1 or nums[last]!=target):\n",
        "            last=-1\n",
        "\n",
        "        low=0\n",
        "        high=len(nums)-1\n",
        "        while(low<=high):\n",
        "            mid=low+(high-low)//2\n",
        "\n",
        "            if(nums[mid]>=target):\n",
        "                first=mid\n",
        "                high=mid-1\n",
        "            else:\n",
        "                low=mid+1\n",
        "        if(first==-1 or nums[first]!=target):\n",
        "            first=-1\n",
        "\n",
        "        return [first,last]\n",
        "\n",
        ""
      ]
    }
  ]
}