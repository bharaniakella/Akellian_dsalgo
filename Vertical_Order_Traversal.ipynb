{
  "nbformat": 4,
  "nbformat_minor": 0,
  "metadata": {
    "colab": {
      "provenance": [],
      "authorship_tag": "ABX9TyMAY5B0v0gLlemKj23JDlpl",
      "include_colab_link": true
    },
    "kernelspec": {
      "name": "python3",
      "display_name": "Python 3"
    },
    "language_info": {
      "name": "python"
    }
  },
  "cells": [
    {
      "cell_type": "markdown",
      "metadata": {
        "id": "view-in-github",
        "colab_type": "text"
      },
      "source": [
        "<a href=\"https://colab.research.google.com/github/bharaniakella/Akellian_dsalgo/blob/main/Vertical_Order_Traversal.ipynb\" target=\"_parent\"><img src=\"https://colab.research.google.com/assets/colab-badge.svg\" alt=\"Open In Colab\"/></a>"
      ]
    },
    {
      "cell_type": "code",
      "execution_count": null,
      "metadata": {
        "id": "JRjgM31nWhqF"
      },
      "outputs": [],
      "source": [
        "# Definition for a binary tree node.\n",
        "# class TreeNode:\n",
        "#     def __init__(self, val=0, left=None, right=None):\n",
        "#         self.val = val\n",
        "#         self.left = left\n",
        "#         self.right = right\n",
        "class Solution:\n",
        "    def verticalTraversal(self, root: Optional[TreeNode]) -> List[List[int]]:\n",
        "\n",
        "        result=[]\n",
        "        cache={}\n",
        "        self.minC, self.maxC=0,0\n",
        "\n",
        "        def dfs(node,r,c):\n",
        "\n",
        "            if node is None:\n",
        "                return\n",
        "\n",
        "            if c in cache:\n",
        "                cache[c].append([r,node.val])\n",
        "            else:\n",
        "                cache[c]=[[r,node.val]]\n",
        "\n",
        "            self.minC=min(self.minC,c)\n",
        "            self.maxC=max(self.maxC,c)\n",
        "\n",
        "            dfs(node.left,r+1,c-1)\n",
        "            dfs(node.right,r+1,c+1)\n",
        "\n",
        "        dfs(root,0,0)\n",
        "\n",
        "        for c in range(self.minC, self.maxC+1):\n",
        "            col=sorted(cache[c], key=lambda x: (x[0],x[1]))\n",
        "            col_sorted=[]\n",
        "            for p in col:\n",
        "                col_sorted.append(p[1])\n",
        "            result.append(col_sorted)\n",
        "\n",
        "        return result"
      ]
    }
  ]
}