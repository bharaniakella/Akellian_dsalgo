{
  "nbformat": 4,
  "nbformat_minor": 0,
  "metadata": {
    "colab": {
      "provenance": [],
      "authorship_tag": "ABX9TyPC9/Q1narT5MiO+RX9cJZG",
      "include_colab_link": true
    },
    "kernelspec": {
      "name": "python3",
      "display_name": "Python 3"
    },
    "language_info": {
      "name": "python"
    }
  },
  "cells": [
    {
      "cell_type": "markdown",
      "metadata": {
        "id": "view-in-github",
        "colab_type": "text"
      },
      "source": [
        "<a href=\"https://colab.research.google.com/github/bharaniakella/Akellian_dsalgo/blob/main/valid_palindrome.ipynb\" target=\"_parent\"><img src=\"https://colab.research.google.com/assets/colab-badge.svg\" alt=\"Open In Colab\"/></a>"
      ]
    },
    {
      "cell_type": "code",
      "execution_count": null,
      "metadata": {
        "id": "D-yqiu7MPoi5"
      },
      "outputs": [],
      "source": [
        "class Solution:\n",
        "    def isPalindrome(self, s: str) -> bool:\n",
        "\n",
        "        l=0\n",
        "        r=len(s)-1\n",
        "\n",
        "        while l<r:\n",
        "            while l<r and not self.alphanum(s[l]):\n",
        "                l=l+1\n",
        "            while r>l and not self.alphanum(s[r]):\n",
        "                r=r-1\n",
        "\n",
        "            if(s[l].lower()!=s[r].lower()):\n",
        "                return False\n",
        "\n",
        "            l=l+1\n",
        "            r=r-1\n",
        "\n",
        "        return True\n",
        "\n",
        "    def alphanum(self,c):\n",
        "        return ((ord('A')<=ord(c)<=ord('Z')) or\n",
        "        (ord('a')<=ord(c)<=ord('z')) or\n",
        "        (ord('0')<=ord(c)<=ord('9')))"
      ]
    }
  ]
}