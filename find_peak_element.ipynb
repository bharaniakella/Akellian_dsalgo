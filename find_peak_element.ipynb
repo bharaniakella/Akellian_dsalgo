{
  "nbformat": 4,
  "nbformat_minor": 0,
  "metadata": {
    "colab": {
      "provenance": [],
      "authorship_tag": "ABX9TyPvQOPQOeSZ/neSIv9dRaCf",
      "include_colab_link": true
    },
    "kernelspec": {
      "name": "python3",
      "display_name": "Python 3"
    },
    "language_info": {
      "name": "python"
    }
  },
  "cells": [
    {
      "cell_type": "markdown",
      "metadata": {
        "id": "view-in-github",
        "colab_type": "text"
      },
      "source": [
        "<a href=\"https://colab.research.google.com/github/bharaniakella/Akellian_dsalgo/blob/main/find_peak_element.ipynb\" target=\"_parent\"><img src=\"https://colab.research.google.com/assets/colab-badge.svg\" alt=\"Open In Colab\"/></a>"
      ]
    },
    {
      "cell_type": "code",
      "execution_count": null,
      "metadata": {
        "id": "WWgf6-a67kRU"
      },
      "outputs": [],
      "source": [
        "class Solution:\n",
        "    def findPeakElement(self, nums: List[int]) -> int:\n",
        "        low=0\n",
        "        high=len(nums)-1\n",
        "        if(len(nums)==1):\n",
        "            return 0\n",
        "        if(nums[0]>nums[1]):\n",
        "            return 0\n",
        "        if(nums[high]>nums[high-1]):\n",
        "            return high\n",
        "\n",
        "        low=1\n",
        "        high=high-1\n",
        "        while(low<=high):\n",
        "            mid=low+(high-low)//2\n",
        "            if(nums[mid]>nums[mid-1] and nums[mid]>nums[mid+1]):\n",
        "                return mid\n",
        "            if(nums[mid]>nums[mid-1]):\n",
        "                low=mid+1\n",
        "            elif(nums[mid]>nums[mid+1]):\n",
        "                high=mid-1\n",
        "            else:\n",
        "                low=mid+1\n",
        "        return -1\n"
      ]
    }
  ]
}