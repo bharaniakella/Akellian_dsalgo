{
  "nbformat": 4,
  "nbformat_minor": 0,
  "metadata": {
    "colab": {
      "provenance": [],
      "authorship_tag": "ABX9TyPTyb98OyRb+SWvuimhpUfw",
      "include_colab_link": true
    },
    "kernelspec": {
      "name": "python3",
      "display_name": "Python 3"
    },
    "language_info": {
      "name": "python"
    }
  },
  "cells": [
    {
      "cell_type": "markdown",
      "metadata": {
        "id": "view-in-github",
        "colab_type": "text"
      },
      "source": [
        "<a href=\"https://colab.research.google.com/github/bharaniakella/akellian_greatness/blob/main/delete_node_binary_tree.ipynb\" target=\"_parent\"><img src=\"https://colab.research.google.com/assets/colab-badge.svg\" alt=\"Open In Colab\"/></a>"
      ]
    },
    {
      "cell_type": "code",
      "execution_count": 113,
      "metadata": {
        "id": "k91ke-MWMQIr"
      },
      "outputs": [],
      "source": [
        "from queue import Queue\n",
        "class TreeNode:\n",
        "  def __init__(self,data):\n",
        "    self.data=data\n",
        "    self.leftChild=None\n",
        "    self.rightChild=None"
      ]
    },
    {
      "cell_type": "code",
      "source": [
        "def levelOrder(rootNode):\n",
        "  if not rootNode:\n",
        "    return\n",
        "  my_q=Queue()\n",
        "  my_q.put(rootNode)\n",
        "  while(not my_q.empty()):\n",
        "    temp=my_q.get()\n",
        "    if(temp.leftChild):\n",
        "      my_q.put(temp.leftChild)\n",
        "    if(temp.rightChild):\n",
        "      my_q.put(temp.rightChild)\n",
        "    print(temp.data)"
      ],
      "metadata": {
        "id": "YSo1y8V8Mez4"
      },
      "execution_count": 114,
      "outputs": []
    },
    {
      "cell_type": "code",
      "source": [
        "def getDeepestNode(rootNode):\n",
        "  if not rootNode:\n",
        "    return\n",
        "  my_q=Queue()\n",
        "  my_q.put(rootNode)\n",
        "  while(not my_q.empty()):\n",
        "    temp=my_q.get()\n",
        "    if(temp.leftChild):\n",
        "      my_q.put(temp.leftChild)\n",
        "    if(temp.rightChild):\n",
        "      my_q.put(temp.rightChild)\n",
        "  return temp"
      ],
      "metadata": {
        "id": "qiG6DA42NGT5"
      },
      "execution_count": 115,
      "outputs": []
    },
    {
      "cell_type": "code",
      "source": [
        "def deleteDeepestNode(rootNode,dNode):\n",
        "  if not rootNode:\n",
        "    return\n",
        "  else:\n",
        "    my_q=Queue()\n",
        "    my_q.put(rootNode)\n",
        "    while(not my_q.empty()):\n",
        "      temp=my_q.get()\n",
        "      if(temp==dNode):\n",
        "        temp=None\n",
        "        return\n",
        "      if(temp.leftChild):\n",
        "        if(temp.leftChild==dNode):\n",
        "          temp.leftChild=None\n",
        "          return\n",
        "        else:\n",
        "          my_q.put(temp.leftChild)\n",
        "      if(temp.rightChild):\n",
        "        if(temp.rightChild==dNode):\n",
        "          temp.rightChild=None\n",
        "          return\n",
        "        else:\n",
        "          my_q.put(temp.rightChild)\n",
        ""
      ],
      "metadata": {
        "id": "6UY9iGvONlOk"
      },
      "execution_count": 124,
      "outputs": []
    },
    {
      "cell_type": "code",
      "source": [
        "def deleteNode(rootNode,keyNode):\n",
        "  if not rootNode:\n",
        "    return\n",
        "  else:\n",
        "\n",
        "    my_q=Queue()\n",
        "    my_q.put(rootNode)\n",
        "    while(not my_q.empty()):\n",
        "      temp=my_q.get()\n",
        "      if(temp.data==keyNode):\n",
        "        dNode=getDeepestNode(rootNode)\n",
        "        temp.data=dNode.data\n",
        "        deleteDeepestNode(rootNode,dNode)\n",
        "        return \"deleted node\"\n",
        "\n",
        "      if(temp.leftChild):\n",
        "        my_q.put(temp.leftChild)\n",
        "      if(temp.rightChild):\n",
        "        my_q.put(temp.rightChild)\n",
        "  return \"failed to delete\""
      ],
      "metadata": {
        "id": "gairy_8hPIaT"
      },
      "execution_count": 125,
      "outputs": []
    },
    {
      "cell_type": "code",
      "source": [
        "btNode=TreeNode('beverage')\n",
        "hot=TreeNode('hot')\n",
        "cold=TreeNode('cold')\n",
        "coffee=TreeNode('coffee')\n",
        "tea=TreeNode('tea')\n",
        "beer=TreeNode('beer')\n",
        "pepsi=TreeNode('pepsi')\n",
        "\n",
        "btNode.leftChild=hot\n",
        "btNode.rightChild=cold\n",
        "\n",
        "hot.leftChild=coffee\n",
        "hot.rightChild=tea\n",
        "\n",
        "cold.leftChild=beer\n",
        "cold.rightChild=pepsi"
      ],
      "metadata": {
        "id": "PKIm_YQESIw7"
      },
      "execution_count": 126,
      "outputs": []
    },
    {
      "cell_type": "code",
      "source": [
        "levelOrder(btNode)"
      ],
      "metadata": {
        "colab": {
          "base_uri": "https://localhost:8080/"
        },
        "id": "Hr25UkOhSYLz",
        "outputId": "59871b8e-431d-45ad-a6bc-2907729c40de"
      },
      "execution_count": 127,
      "outputs": [
        {
          "output_type": "stream",
          "name": "stdout",
          "text": [
            "beverage\n",
            "hot\n",
            "cold\n",
            "coffee\n",
            "tea\n",
            "beer\n",
            "pepsi\n"
          ]
        }
      ]
    },
    {
      "cell_type": "code",
      "source": [
        "deep=getDeepestNode(btNode)\n",
        "deep.data"
      ],
      "metadata": {
        "colab": {
          "base_uri": "https://localhost:8080/",
          "height": 35
        },
        "id": "JP6oLRQiZ_lq",
        "outputId": "63b7be8f-4fbc-45e3-b38c-edafd9bdc1fb"
      },
      "execution_count": 128,
      "outputs": [
        {
          "output_type": "execute_result",
          "data": {
            "text/plain": [
              "'pepsi'"
            ],
            "application/vnd.google.colaboratory.intrinsic+json": {
              "type": "string"
            }
          },
          "metadata": {},
          "execution_count": 128
        }
      ]
    },
    {
      "cell_type": "code",
      "source": [
        "deleteNode(btNode,'hot')\n",
        "levelOrder(btNode)"
      ],
      "metadata": {
        "colab": {
          "base_uri": "https://localhost:8080/"
        },
        "id": "KwC0y95VTJ1f",
        "outputId": "551d94aa-1d1d-442b-c612-85888e8d13ee"
      },
      "execution_count": 129,
      "outputs": [
        {
          "output_type": "stream",
          "name": "stdout",
          "text": [
            "beverage\n",
            "pepsi\n",
            "cold\n",
            "coffee\n",
            "tea\n",
            "beer\n"
          ]
        }
      ]
    },
    {
      "cell_type": "code",
      "source": [],
      "metadata": {
        "id": "CKnB91MuaO14"
      },
      "execution_count": 121,
      "outputs": []
    }
  ]
}