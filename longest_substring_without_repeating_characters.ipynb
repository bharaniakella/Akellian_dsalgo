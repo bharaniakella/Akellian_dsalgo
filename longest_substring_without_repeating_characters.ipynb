{
  "nbformat": 4,
  "nbformat_minor": 0,
  "metadata": {
    "colab": {
      "provenance": [],
      "authorship_tag": "ABX9TyOyoy3tStay5jq9lLutUZnO",
      "include_colab_link": true
    },
    "kernelspec": {
      "name": "python3",
      "display_name": "Python 3"
    },
    "language_info": {
      "name": "python"
    }
  },
  "cells": [
    {
      "cell_type": "markdown",
      "metadata": {
        "id": "view-in-github",
        "colab_type": "text"
      },
      "source": [
        "<a href=\"https://colab.research.google.com/github/bharaniakella/Akellian_dsalgo/blob/main/longest_substring_without_repeating_characters.ipynb\" target=\"_parent\"><img src=\"https://colab.research.google.com/assets/colab-badge.svg\" alt=\"Open In Colab\"/></a>"
      ]
    },
    {
      "cell_type": "code",
      "execution_count": null,
      "metadata": {
        "id": "rZ0kzN7FkOlB"
      },
      "outputs": [],
      "source": [
        "class Solution:\n",
        "    def lengthOfLongestSubstring(self, s: str) -> int:\n",
        "        result=0\n",
        "        l=0\n",
        "        charSet = set()\n",
        "\n",
        "        for r in range(len(s)):\n",
        "            while(s[r] in charSet):\n",
        "                charSet.remove(s[l])\n",
        "                l=l+1\n",
        "\n",
        "            charSet.add(s[r])\n",
        "            result=max(result,r-l+1)\n",
        "\n",
        "        return result"
      ]
    }
  ]
}