{
  "nbformat": 4,
  "nbformat_minor": 0,
  "metadata": {
    "colab": {
      "provenance": [],
      "authorship_tag": "ABX9TyOZCNfYQtSsp/wlkptLDeTk",
      "include_colab_link": true
    },
    "kernelspec": {
      "name": "python3",
      "display_name": "Python 3"
    },
    "language_info": {
      "name": "python"
    }
  },
  "cells": [
    {
      "cell_type": "markdown",
      "metadata": {
        "id": "view-in-github",
        "colab_type": "text"
      },
      "source": [
        "<a href=\"https://colab.research.google.com/github/bharaniakella/Akellian_dsalgo/blob/main/single_element_in_a_sorted_Array.ipynb\" target=\"_parent\"><img src=\"https://colab.research.google.com/assets/colab-badge.svg\" alt=\"Open In Colab\"/></a>"
      ]
    },
    {
      "cell_type": "code",
      "execution_count": null,
      "metadata": {
        "id": "j477k6RAgDen"
      },
      "outputs": [],
      "source": [
        "class Solution:\n",
        "    def singleNonDuplicate(self, nums: List[int]) -> int:\n",
        "        low=0\n",
        "        high=len(nums)-1\n",
        "        if(len(nums)==1):\n",
        "            return nums[0]\n",
        "        if(nums[0]!=nums[1]):\n",
        "            return nums[0]\n",
        "        if(nums[high]!=nums[high-1]):\n",
        "            return nums[high]\n",
        "\n",
        "        while(low<=high):\n",
        "            mid=low+(high-low)//2\n",
        "            if(nums[mid]!=nums[mid-1] and nums[mid]!=nums[mid+1]):\n",
        "                return nums[mid]\n",
        "            if((mid%2==1 and nums[mid-1]==nums[mid]) or (mid%2==0 and nums[mid]==nums[mid+1])):\n",
        "                low=mid+1\n",
        "            else:\n",
        "                high=mid-1\n",
        "        return -1\n"
      ]
    }
  ]
}