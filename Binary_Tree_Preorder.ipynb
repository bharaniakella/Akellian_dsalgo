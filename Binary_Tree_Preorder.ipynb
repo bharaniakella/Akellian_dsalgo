{
  "nbformat": 4,
  "nbformat_minor": 0,
  "metadata": {
    "colab": {
      "provenance": [],
      "authorship_tag": "ABX9TyPyRRpXSgJDI+7QkZNqIK7h",
      "include_colab_link": true
    },
    "kernelspec": {
      "name": "python3",
      "display_name": "Python 3"
    },
    "language_info": {
      "name": "python"
    }
  },
  "cells": [
    {
      "cell_type": "markdown",
      "metadata": {
        "id": "view-in-github",
        "colab_type": "text"
      },
      "source": [
        "<a href=\"https://colab.research.google.com/github/bharaniakella/akellian_greatness/blob/main/Binary_Tree_Preorder.ipynb\" target=\"_parent\"><img src=\"https://colab.research.google.com/assets/colab-badge.svg\" alt=\"Open In Colab\"/></a>"
      ]
    },
    {
      "cell_type": "code",
      "execution_count": 7,
      "metadata": {
        "id": "PETEGjET36AG"
      },
      "outputs": [],
      "source": [
        "class TreeNode:\n",
        "  def __init__(self,data):\n",
        "    self.data=data\n",
        "    self.leftChild=None\n",
        "    self.rightChild=None\n",
        ""
      ]
    },
    {
      "cell_type": "code",
      "source": [
        "btNode=TreeNode('Beverage')\n",
        "lc=TreeNode('hot')\n",
        "rc=TreeNode('cold')\n",
        "\n",
        "btNode.leftChild=lc\n",
        "btNode.rightChild=rc\n",
        "\n",
        "def preOrder(rootNode):\n",
        "  if not rootNode:\n",
        "    return\n",
        "  print(rootNode.data)\n",
        "  preOrder(rootNode.leftChild)\n",
        "  preOrder(rootNode.rightChild)\n"
      ],
      "metadata": {
        "id": "zqFyfVDr4lUa"
      },
      "execution_count": 8,
      "outputs": []
    },
    {
      "cell_type": "code",
      "source": [
        "preOrder(rootNode)"
      ],
      "metadata": {
        "colab": {
          "base_uri": "https://localhost:8080/"
        },
        "id": "scbTsIFa5lS3",
        "outputId": "b57d2342-98fd-48e2-968a-1e86b7615ec1"
      },
      "execution_count": 9,
      "outputs": [
        {
          "output_type": "stream",
          "name": "stdout",
          "text": [
            "Beverage\n",
            "hot\n",
            "cold\n"
          ]
        }
      ]
    },
    {
      "cell_type": "code",
      "source": [],
      "metadata": {
        "id": "f7RCHiJr5pAR"
      },
      "execution_count": null,
      "outputs": []
    }
  ]
}