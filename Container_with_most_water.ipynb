{
  "nbformat": 4,
  "nbformat_minor": 0,
  "metadata": {
    "colab": {
      "provenance": [],
      "authorship_tag": "ABX9TyMsYM6pJndr72jBuVpZTAAN",
      "include_colab_link": true
    },
    "kernelspec": {
      "name": "python3",
      "display_name": "Python 3"
    },
    "language_info": {
      "name": "python"
    }
  },
  "cells": [
    {
      "cell_type": "markdown",
      "metadata": {
        "id": "view-in-github",
        "colab_type": "text"
      },
      "source": [
        "<a href=\"https://colab.research.google.com/github/bharaniakella/Akellian_dsalgo/blob/main/Container_with_most_water.ipynb\" target=\"_parent\"><img src=\"https://colab.research.google.com/assets/colab-badge.svg\" alt=\"Open In Colab\"/></a>"
      ]
    },
    {
      "cell_type": "code",
      "execution_count": null,
      "metadata": {
        "id": "S2XRJKVV6WX-"
      },
      "outputs": [],
      "source": [
        "class Solution:\n",
        "    def maxArea(self, height: List[int]) -> int:\n",
        "        res=0\n",
        "        l=0\n",
        "        r=len(height)-1\n",
        "        while(l<r):\n",
        "            area=(r-l)*min(height[l],height[r])\n",
        "            res=max(res,area)\n",
        "            if height[l]<height[r]:\n",
        "                l=l+1\n",
        "            else:\n",
        "                r=r-1\n",
        "        return res\n",
        "\n",
        ""
      ]
    }
  ]
}