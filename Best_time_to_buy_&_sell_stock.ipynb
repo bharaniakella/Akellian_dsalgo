{
  "nbformat": 4,
  "nbformat_minor": 0,
  "metadata": {
    "colab": {
      "provenance": [],
      "authorship_tag": "ABX9TyP4yT6FUVkB4E3MEp4G7Cm/",
      "include_colab_link": true
    },
    "kernelspec": {
      "name": "python3",
      "display_name": "Python 3"
    },
    "language_info": {
      "name": "python"
    }
  },
  "cells": [
    {
      "cell_type": "markdown",
      "metadata": {
        "id": "view-in-github",
        "colab_type": "text"
      },
      "source": [
        "<a href=\"https://colab.research.google.com/github/bharaniakella/Akellian_dsalgo/blob/main/Best_time_to_buy_%26_sell_stock.ipynb\" target=\"_parent\"><img src=\"https://colab.research.google.com/assets/colab-badge.svg\" alt=\"Open In Colab\"/></a>"
      ]
    },
    {
      "cell_type": "code",
      "execution_count": null,
      "metadata": {
        "id": "wO8rO4eOjvEt"
      },
      "outputs": [],
      "source": [
        "class Solution:\n",
        "    def maxProfit(self, prices: List[int]) -> int:\n",
        "        l=0\n",
        "        r=1\n",
        "        maxP=0\n",
        "\n",
        "        while(r<len(prices)):\n",
        "            if(prices[l]<prices[r]):\n",
        "                profit=prices[r]-prices[l]\n",
        "                maxP=max(maxP,profit)\n",
        "            else:\n",
        "                l=r\n",
        "            r=r+1\n",
        "        return maxP\n",
        ""
      ]
    }
  ]
}