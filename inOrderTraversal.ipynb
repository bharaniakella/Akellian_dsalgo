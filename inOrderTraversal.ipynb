{
  "nbformat": 4,
  "nbformat_minor": 0,
  "metadata": {
    "colab": {
      "provenance": [],
      "authorship_tag": "ABX9TyM1DZ753uGTNTqLYWT3NX35",
      "include_colab_link": true
    },
    "kernelspec": {
      "name": "python3",
      "display_name": "Python 3"
    },
    "language_info": {
      "name": "python"
    }
  },
  "cells": [
    {
      "cell_type": "markdown",
      "metadata": {
        "id": "view-in-github",
        "colab_type": "text"
      },
      "source": [
        "<a href=\"https://colab.research.google.com/github/bharaniakella/akellian_greatness/blob/main/inOrderTraversal.ipynb\" target=\"_parent\"><img src=\"https://colab.research.google.com/assets/colab-badge.svg\" alt=\"Open In Colab\"/></a>"
      ]
    },
    {
      "cell_type": "code",
      "execution_count": 1,
      "metadata": {
        "id": "sOP8zBkl6-rd"
      },
      "outputs": [],
      "source": [
        "class TreeNode:\n",
        "  def __init__(self,data):\n",
        "    self.data=data\n",
        "    self.leftChild=None\n",
        "    self.rightChild=None\n",
        ""
      ]
    },
    {
      "cell_type": "code",
      "source": [
        "btNode=TreeNode('Beverage')\n",
        "lc=TreeNode('Hot')\n",
        "rc=TreeNode('Cold')\n",
        "\n",
        "btNode.leftChild=lc\n",
        "btNode.rightChild=rc\n",
        "\n",
        "def inOrder(rootNode):\n",
        "  if not rootNode:\n",
        "    return\n",
        "  inOrder(rootNode.leftChild)\n",
        "  print(rootNode.data)\n",
        "  inOrder(rootNode.rightChild)\n"
      ],
      "metadata": {
        "id": "vQA3Wyvh8FNt"
      },
      "execution_count": 4,
      "outputs": []
    },
    {
      "cell_type": "code",
      "source": [
        "inOrder(btNode)"
      ],
      "metadata": {
        "colab": {
          "base_uri": "https://localhost:8080/"
        },
        "id": "tM6F_fP88rKt",
        "outputId": "33930649-f8d0-4052-9fe3-4f24d1d5aef6"
      },
      "execution_count": 5,
      "outputs": [
        {
          "output_type": "stream",
          "name": "stdout",
          "text": [
            "Hot\n",
            "Beverage\n",
            "Cold\n"
          ]
        }
      ]
    },
    {
      "cell_type": "code",
      "source": [],
      "metadata": {
        "id": "A--HVycX8t6Q"
      },
      "execution_count": null,
      "outputs": []
    }
  ]
}