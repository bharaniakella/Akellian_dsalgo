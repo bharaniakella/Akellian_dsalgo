{
  "nbformat": 4,
  "nbformat_minor": 0,
  "metadata": {
    "colab": {
      "provenance": [],
      "authorship_tag": "ABX9TyNleRICrIS3s/3iBaijgi8p",
      "include_colab_link": true
    },
    "kernelspec": {
      "name": "python3",
      "display_name": "Python 3"
    },
    "language_info": {
      "name": "python"
    }
  },
  "cells": [
    {
      "cell_type": "markdown",
      "metadata": {
        "id": "view-in-github",
        "colab_type": "text"
      },
      "source": [
        "<a href=\"https://colab.research.google.com/github/bharaniakella/Akellian_dsalgo/blob/main/valid_anagram.ipynb\" target=\"_parent\"><img src=\"https://colab.research.google.com/assets/colab-badge.svg\" alt=\"Open In Colab\"/></a>"
      ]
    },
    {
      "cell_type": "code",
      "execution_count": 26,
      "metadata": {
        "id": "xPM5HXmG6TY2"
      },
      "outputs": [],
      "source": [
        "class Solution:\n",
        "    def isAnagram(self, s: str, t: str) -> bool:\n",
        "        s_dict,t_dict={},{}\n",
        "\n",
        "        if(len(s)!=len(t)):\n",
        "            return False\n",
        "\n",
        "        for i in range(len(s)):\n",
        "            s_dict[s[i]]=1+s_dict.get(s[i],0)\n",
        "            t_dict[t[i]]=1+t_dict.get(t[i],0)\n",
        "\n",
        "        for ele in s_dict:\n",
        "            if s_dict[ele]!=t_dict.get(ele,0):\n",
        "                return False\n",
        "        return True"
      ]
    }
  ]
}