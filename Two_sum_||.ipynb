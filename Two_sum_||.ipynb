{
  "nbformat": 4,
  "nbformat_minor": 0,
  "metadata": {
    "colab": {
      "provenance": [],
      "authorship_tag": "ABX9TyM0Jz1olBSfaPjwB0aM2UXM",
      "include_colab_link": true
    },
    "kernelspec": {
      "name": "python3",
      "display_name": "Python 3"
    },
    "language_info": {
      "name": "python"
    }
  },
  "cells": [
    {
      "cell_type": "markdown",
      "metadata": {
        "id": "view-in-github",
        "colab_type": "text"
      },
      "source": [
        "<a href=\"https://colab.research.google.com/github/bharaniakella/Akellian_dsalgo/blob/main/Two_sum_%7C%7C.ipynb\" target=\"_parent\"><img src=\"https://colab.research.google.com/assets/colab-badge.svg\" alt=\"Open In Colab\"/></a>"
      ]
    },
    {
      "cell_type": "code",
      "execution_count": null,
      "metadata": {
        "id": "r5adQuYktI7Q"
      },
      "outputs": [],
      "source": [
        "class Solution:\n",
        "    def twoSum(self, numbers: List[int], target: int) -> List[int]:\n",
        "        l=0\n",
        "        r=len(numbers)-1\n",
        "        while(l<r):\n",
        "            currsum=numbers[l]+numbers[r]\n",
        "            if(currsum>target):\n",
        "                r=r-1\n",
        "            elif(currsum<target):\n",
        "                l=l+1\n",
        "            else:\n",
        "                return [l+1,r+1]\n",
        "\n",
        ""
      ]
    }
  ]
}