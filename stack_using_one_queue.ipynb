{
  "nbformat": 4,
  "nbformat_minor": 0,
  "metadata": {
    "colab": {
      "provenance": [],
      "authorship_tag": "ABX9TyPkTkxTYVqALxIYmWpdi+mP",
      "include_colab_link": true
    },
    "kernelspec": {
      "name": "python3",
      "display_name": "Python 3"
    },
    "language_info": {
      "name": "python"
    }
  },
  "cells": [
    {
      "cell_type": "markdown",
      "metadata": {
        "id": "view-in-github",
        "colab_type": "text"
      },
      "source": [
        "<a href=\"https://colab.research.google.com/github/bharaniakella/akellian_greatness/blob/main/stack_using_one_queue.ipynb\" target=\"_parent\"><img src=\"https://colab.research.google.com/assets/colab-badge.svg\" alt=\"Open In Colab\"/></a>"
      ]
    },
    {
      "cell_type": "code",
      "execution_count": null,
      "metadata": {
        "id": "e8rjfWlKsP9f"
      },
      "outputs": [],
      "source": [
        "from queue import Queue\n",
        "class MyStack:\n",
        "\n",
        "    def __init__(self):\n",
        "        self.q=Queue()\n",
        "    def push(self, x: int) -> None:\n",
        "        s=self.q.qsize()\n",
        "        self.q.put(x)\n",
        "        for i in range(s):\n",
        "            self.q.put(self.q.get())\n",
        "\n",
        "    def pop(self) -> int:\n",
        "\n",
        "        n=self.q.get()\n",
        "        return n\n",
        "\n",
        "    def top(self) -> int:\n",
        "\n",
        "        return self.q.queue[0]\n",
        "\n",
        "    def empty(self) -> bool:\n",
        "\n",
        "        return self.q.empty()"
      ]
    }
  ]
}