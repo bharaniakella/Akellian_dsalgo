{
  "nbformat": 4,
  "nbformat_minor": 0,
  "metadata": {
    "colab": {
      "provenance": [],
      "authorship_tag": "ABX9TyOtWKVnV1H5l4jPzBOhElKc",
      "include_colab_link": true
    },
    "kernelspec": {
      "name": "python3",
      "display_name": "Python 3"
    },
    "language_info": {
      "name": "python"
    }
  },
  "cells": [
    {
      "cell_type": "markdown",
      "metadata": {
        "id": "view-in-github",
        "colab_type": "text"
      },
      "source": [
        "<a href=\"https://colab.research.google.com/github/bharaniakella/Akellian_dsalgo/blob/main/insert_bst.ipynb\" target=\"_parent\"><img src=\"https://colab.research.google.com/assets/colab-badge.svg\" alt=\"Open In Colab\"/></a>"
      ]
    },
    {
      "cell_type": "code",
      "execution_count": null,
      "metadata": {
        "id": "IopL8BusXCbG"
      },
      "outputs": [],
      "source": [
        "class Solution:\n",
        "    def insertIntoBST(self, root: Optional[TreeNode], val: int) -> Optional[TreeNode]:\n",
        "        if(root is None):\n",
        "            curr= TreeNode(val)\n",
        "            return curr\n",
        "\n",
        "        curr=root\n",
        "        while(curr):\n",
        "            if(curr.val<val):\n",
        "                if(curr.right is None):\n",
        "                    curr.right = TreeNode(val)\n",
        "                    break\n",
        "                else:\n",
        "                    curr=curr.right\n",
        "            else:\n",
        "                if(curr.left is None):\n",
        "                    curr.left= TreeNode(val)\n",
        "                    break\n",
        "                else:\n",
        "                    curr=curr.left\n",
        "        return root\n",
        ""
      ]
    }
  ]
}