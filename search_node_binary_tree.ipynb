{
  "nbformat": 4,
  "nbformat_minor": 0,
  "metadata": {
    "colab": {
      "provenance": [],
      "authorship_tag": "ABX9TyM8ddCODh1rrjsS00uXFf3f",
      "include_colab_link": true
    },
    "kernelspec": {
      "name": "python3",
      "display_name": "Python 3"
    },
    "language_info": {
      "name": "python"
    }
  },
  "cells": [
    {
      "cell_type": "markdown",
      "metadata": {
        "id": "view-in-github",
        "colab_type": "text"
      },
      "source": [
        "<a href=\"https://colab.research.google.com/github/bharaniakella/akellian_greatness/blob/main/search_node_binary_tree.ipynb\" target=\"_parent\"><img src=\"https://colab.research.google.com/assets/colab-badge.svg\" alt=\"Open In Colab\"/></a>"
      ]
    },
    {
      "cell_type": "code",
      "execution_count": 3,
      "metadata": {
        "id": "V36IytR9qmnP"
      },
      "outputs": [],
      "source": [
        "from queue import Queue\n",
        "class TreeNode:\n",
        "  def __init__(self,data):\n",
        "    self.data=data\n",
        "    self.leftChild=None\n",
        "    self.rightChild=None\n"
      ]
    },
    {
      "cell_type": "code",
      "source": [
        "btNode=TreeNode('beverage')\n",
        "hot=TreeNode('hot')\n",
        "cold=TreeNode('cold')\n",
        "coffee=TreeNode('coffee')\n",
        "tea=TreeNode('tea')\n",
        "beer=TreeNode('beer')\n",
        "pepsi=TreeNode('pepsi')\n",
        "\n",
        "btNode.leftChild=hot\n",
        "btNode.rightChild=cold\n",
        "\n",
        "hot.leftChild=coffee\n",
        "hot.rightChild=tea\n",
        "\n",
        "cold.leftChild=beer\n",
        "cold.rightChild=pepsi"
      ],
      "metadata": {
        "id": "C4-fJZoSsjYU"
      },
      "execution_count": 4,
      "outputs": []
    },
    {
      "cell_type": "code",
      "source": [
        "def node_search(rootNode,keyNode):\n",
        "  if not rootNode:\n",
        "    return \"BT not present\"\n",
        "  my_q=Queue()\n",
        "  my_q.put(rootNode)\n",
        "  while(not my_q.empty()):\n",
        "    temp=my_q.get()\n",
        "    if(temp.data==keyNode):\n",
        "      return \"success\"\n",
        "\n",
        "    if(temp.leftChild):\n",
        "      my_q.put(temp.leftChild)\n",
        "\n",
        "    if(temp.rightChild):\n",
        "      my_q.put(temp.rightChild)\n",
        "\n",
        "  return \"node not present\""
      ],
      "metadata": {
        "id": "_j11YD4atBK5"
      },
      "execution_count": 5,
      "outputs": []
    },
    {
      "cell_type": "code",
      "source": [
        "node_search(btNode,\"tea\")"
      ],
      "metadata": {
        "colab": {
          "base_uri": "https://localhost:8080/",
          "height": 35
        },
        "id": "_DEZubFPt01U",
        "outputId": "5660d273-ba6a-4581-9b32-6bbe138c9166"
      },
      "execution_count": 11,
      "outputs": [
        {
          "output_type": "execute_result",
          "data": {
            "text/plain": [
              "'success'"
            ],
            "application/vnd.google.colaboratory.intrinsic+json": {
              "type": "string"
            }
          },
          "metadata": {},
          "execution_count": 11
        }
      ]
    },
    {
      "cell_type": "code",
      "source": [],
      "metadata": {
        "id": "HJsHiHtUt3Sb"
      },
      "execution_count": null,
      "outputs": []
    }
  ]
}