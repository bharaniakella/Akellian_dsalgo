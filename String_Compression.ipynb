{
  "nbformat": 4,
  "nbformat_minor": 0,
  "metadata": {
    "colab": {
      "provenance": [],
      "authorship_tag": "ABX9TyNHZyCaxzzQP84fLEvfhVWw",
      "include_colab_link": true
    },
    "kernelspec": {
      "name": "python3",
      "display_name": "Python 3"
    },
    "language_info": {
      "name": "python"
    }
  },
  "cells": [
    {
      "cell_type": "markdown",
      "metadata": {
        "id": "view-in-github",
        "colab_type": "text"
      },
      "source": [
        "<a href=\"https://colab.research.google.com/github/bharaniakella/Akellian_dsalgo/blob/main/String_Compression.ipynb\" target=\"_parent\"><img src=\"https://colab.research.google.com/assets/colab-badge.svg\" alt=\"Open In Colab\"/></a>"
      ]
    },
    {
      "cell_type": "code",
      "source": [
        "class Solution:\n",
        "    def compress(self, chars: List[str]) -> int:\n",
        "        count=1\n",
        "        i=0\n",
        "        for j in range(1,len(chars)+1):\n",
        "            if(j<len(chars) and chars[j]==chars[j-1]):\n",
        "                count=count+1\n",
        "            else:\n",
        "                chars[i]=chars[j-1]\n",
        "                i=i+1\n",
        "                if(count>=2):\n",
        "                    for k in str(count):\n",
        "                        chars[i]=k\n",
        "                        i=i+1\n",
        "                count=1\n",
        "        return i\n"
      ],
      "metadata": {
        "id": "HMAX1r5YJyvj"
      },
      "execution_count": null,
      "outputs": []
    }
  ]
}