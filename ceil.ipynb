{
  "nbformat": 4,
  "nbformat_minor": 0,
  "metadata": {
    "colab": {
      "provenance": [],
      "authorship_tag": "ABX9TyMP1cuuWCQG7wAT367H3imr",
      "include_colab_link": true
    },
    "kernelspec": {
      "name": "python3",
      "display_name": "Python 3"
    },
    "language_info": {
      "name": "python"
    }
  },
  "cells": [
    {
      "cell_type": "markdown",
      "metadata": {
        "id": "view-in-github",
        "colab_type": "text"
      },
      "source": [
        "<a href=\"https://colab.research.google.com/github/bharaniakella/Akellian_dsalgo/blob/main/ceil.ipynb\" target=\"_parent\"><img src=\"https://colab.research.google.com/assets/colab-badge.svg\" alt=\"Open In Colab\"/></a>"
      ]
    },
    {
      "cell_type": "code",
      "execution_count": 1,
      "metadata": {
        "id": "KB0yKmPnqTXp"
      },
      "outputs": [],
      "source": [
        "import numpy as np\n",
        "arr=np.array([3, 4, 4, 7, 8, 10])"
      ]
    },
    {
      "cell_type": "code",
      "source": [
        "def ceil(arr,key):\n",
        "  low=0\n",
        "  high=len(arr)-1\n",
        "  ans=-1\n",
        "\n",
        "  while(low<=high):\n",
        "    mid=low+(high-low)//2\n",
        "\n",
        "    if(arr[mid]>=key):\n",
        "      ans=arr[mid]\n",
        "      high=mid-1\n",
        "    else:\n",
        "      low=mid+1\n",
        "  return ans"
      ],
      "metadata": {
        "id": "PCTtKxWxqaL0"
      },
      "execution_count": 2,
      "outputs": []
    },
    {
      "cell_type": "code",
      "source": [
        "ceil(arr,9)"
      ],
      "metadata": {
        "colab": {
          "base_uri": "https://localhost:8080/"
        },
        "id": "bto9_sKBqz1L",
        "outputId": "065979c5-ff33-4056-9680-11d06327e02e"
      },
      "execution_count": 5,
      "outputs": [
        {
          "output_type": "execute_result",
          "data": {
            "text/plain": [
              "10"
            ]
          },
          "metadata": {},
          "execution_count": 5
        }
      ]
    },
    {
      "cell_type": "code",
      "source": [],
      "metadata": {
        "id": "f--fc5vvq1AA"
      },
      "execution_count": null,
      "outputs": []
    }
  ]
}