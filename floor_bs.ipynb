{
  "nbformat": 4,
  "nbformat_minor": 0,
  "metadata": {
    "colab": {
      "provenance": [],
      "authorship_tag": "ABX9TyM73IHDZvn8MR46h2emE46e",
      "include_colab_link": true
    },
    "kernelspec": {
      "name": "python3",
      "display_name": "Python 3"
    },
    "language_info": {
      "name": "python"
    }
  },
  "cells": [
    {
      "cell_type": "markdown",
      "metadata": {
        "id": "view-in-github",
        "colab_type": "text"
      },
      "source": [
        "<a href=\"https://colab.research.google.com/github/bharaniakella/Akellian_dsalgo/blob/main/floor_bs.ipynb\" target=\"_parent\"><img src=\"https://colab.research.google.com/assets/colab-badge.svg\" alt=\"Open In Colab\"/></a>"
      ]
    },
    {
      "cell_type": "code",
      "execution_count": 1,
      "metadata": {
        "id": "hXmIwMh0pOL7"
      },
      "outputs": [],
      "source": [
        "import numpy as np\n",
        "arr=np.array([3, 4, 4, 7, 8, 10])"
      ]
    },
    {
      "cell_type": "code",
      "source": [
        "def floor(arr,key):\n",
        "  low=0\n",
        "  high=len(arr)-1\n",
        "  ans=-1\n",
        "\n",
        "  while(low<=high):\n",
        "    mid=low+(high-low)//2\n",
        "    if(arr[mid]<=key):\n",
        "      ans=arr[mid]\n",
        "      low=mid+1\n",
        "    else:\n",
        "      high=mid-1\n",
        "  return ans"
      ],
      "metadata": {
        "id": "Kl4c12R9pV84"
      },
      "execution_count": 2,
      "outputs": []
    },
    {
      "cell_type": "code",
      "source": [
        "floor(arr,5)"
      ],
      "metadata": {
        "colab": {
          "base_uri": "https://localhost:8080/"
        },
        "id": "FVXIgkmap56G",
        "outputId": "ad1d97f9-e859-496f-d982-5817c4164e56"
      },
      "execution_count": 8,
      "outputs": [
        {
          "output_type": "execute_result",
          "data": {
            "text/plain": [
              "4"
            ]
          },
          "metadata": {},
          "execution_count": 8
        }
      ]
    },
    {
      "cell_type": "code",
      "source": [],
      "metadata": {
        "id": "G60gkz7Bp7U4"
      },
      "execution_count": null,
      "outputs": []
    }
  ]
}