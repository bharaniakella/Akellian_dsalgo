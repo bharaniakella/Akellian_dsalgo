{
  "nbformat": 4,
  "nbformat_minor": 0,
  "metadata": {
    "colab": {
      "provenance": [],
      "authorship_tag": "ABX9TyOgX2DzSA7fTrufxM33Mwx0",
      "include_colab_link": true
    },
    "kernelspec": {
      "name": "python3",
      "display_name": "Python 3"
    },
    "language_info": {
      "name": "python"
    }
  },
  "cells": [
    {
      "cell_type": "markdown",
      "metadata": {
        "id": "view-in-github",
        "colab_type": "text"
      },
      "source": [
        "<a href=\"https://colab.research.google.com/github/bharaniakella/Akellian_dsalgo/blob/main/contains_duplicate.ipynb\" target=\"_parent\"><img src=\"https://colab.research.google.com/assets/colab-badge.svg\" alt=\"Open In Colab\"/></a>"
      ]
    },
    {
      "cell_type": "code",
      "execution_count": 36,
      "metadata": {
        "id": "0n7t8BDE1o2K"
      },
      "outputs": [],
      "source": [
        "import numpy as np\n",
        "arr=np.array([3,3])"
      ]
    },
    {
      "cell_type": "code",
      "source": [
        "def check_dup(arr):\n",
        "  temp_dict={}\n",
        "  for i in range(len(arr)):\n",
        "    if(arr[i] in temp_dict):\n",
        "      temp_dict[arr[i]]+=1\n",
        "      if(temp_dict[arr[i]]>1):\n",
        "        return True\n",
        "    else:\n",
        "      temp_dict[arr[i]]=1\n",
        "\n",
        "  return False\n"
      ],
      "metadata": {
        "id": "4OzKn88i13E8"
      },
      "execution_count": 37,
      "outputs": []
    }
  ]
}