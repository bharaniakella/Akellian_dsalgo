{
  "nbformat": 4,
  "nbformat_minor": 0,
  "metadata": {
    "colab": {
      "provenance": [],
      "authorship_tag": "ABX9TyNHvNN+NRBG1CVKDCiCM8wh",
      "include_colab_link": true
    },
    "kernelspec": {
      "name": "python3",
      "display_name": "Python 3"
    },
    "language_info": {
      "name": "python"
    }
  },
  "cells": [
    {
      "cell_type": "markdown",
      "metadata": {
        "id": "view-in-github",
        "colab_type": "text"
      },
      "source": [
        "<a href=\"https://colab.research.google.com/github/bharaniakella/akellian_greatness/blob/main/check_binary_tree_balanced.ipynb\" target=\"_parent\"><img src=\"https://colab.research.google.com/assets/colab-badge.svg\" alt=\"Open In Colab\"/></a>"
      ]
    },
    {
      "cell_type": "code",
      "execution_count": null,
      "metadata": {
        "id": "nNhBR26UouOP"
      },
      "outputs": [],
      "source": [
        "# Definition for a binary tree node.\n",
        "# class TreeNode(object):\n",
        "#     def __init__(self, val=0, left=None, right=None):\n",
        "#         self.val = val\n",
        "#         self.left = left\n",
        "#         self.right = right\n",
        "class Solution(object):\n",
        "    def isBalanced(self, root):\n",
        "        \"\"\"\n",
        "        :type root: TreeNode\n",
        "        :rtype: bool\n",
        "        \"\"\"\n",
        "        return self.findHeight(root)>=0\n",
        "\n",
        "    def findHeight(self,root):\n",
        "        if root is None:\n",
        "            return 0\n",
        "        lh=self.findHeight(root.left)\n",
        "        if(lh<0):\n",
        "            return -1\n",
        "        rh=self.findHeight(root.right)\n",
        "        if(rh<0):\n",
        "            return -1\n",
        "        if(abs(rh-lh)>1):\n",
        "            return -1\n",
        "        return 1+max(lh,rh)\n",
        ""
      ]
    }
  ]
}