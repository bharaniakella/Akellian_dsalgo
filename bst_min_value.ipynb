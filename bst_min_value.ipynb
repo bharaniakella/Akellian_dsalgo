{
  "nbformat": 4,
  "nbformat_minor": 0,
  "metadata": {
    "colab": {
      "provenance": [],
      "authorship_tag": "ABX9TyMNDzzgyM0V3XK4x/PaggVI",
      "include_colab_link": true
    },
    "kernelspec": {
      "name": "python3",
      "display_name": "Python 3"
    },
    "language_info": {
      "name": "python"
    }
  },
  "cells": [
    {
      "cell_type": "markdown",
      "metadata": {
        "id": "view-in-github",
        "colab_type": "text"
      },
      "source": [
        "<a href=\"https://colab.research.google.com/github/bharaniakella/Akellian_dsalgo/blob/main/bst_min_value.ipynb\" target=\"_parent\"><img src=\"https://colab.research.google.com/assets/colab-badge.svg\" alt=\"Open In Colab\"/></a>"
      ]
    },
    {
      "cell_type": "code",
      "execution_count": null,
      "metadata": {
        "id": "LSR3wEQc2aFE"
      },
      "outputs": [],
      "source": [
        "def minValue(root):\n",
        "    # Write your code here.\n",
        "    if(root is None):\n",
        "        -1\n",
        "    if(root.left):\n",
        "        minValue(root.left)\n",
        "    return root.data\n",
        "\n",
        "    pass"
      ]
    }
  ]
}