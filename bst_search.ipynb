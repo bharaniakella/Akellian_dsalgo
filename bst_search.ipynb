{
  "nbformat": 4,
  "nbformat_minor": 0,
  "metadata": {
    "colab": {
      "provenance": [],
      "authorship_tag": "ABX9TyOpoh/lMwHfBkqMhY4Sb5W/",
      "include_colab_link": true
    },
    "kernelspec": {
      "name": "python3",
      "display_name": "Python 3"
    },
    "language_info": {
      "name": "python"
    }
  },
  "cells": [
    {
      "cell_type": "markdown",
      "metadata": {
        "id": "view-in-github",
        "colab_type": "text"
      },
      "source": [
        "<a href=\"https://colab.research.google.com/github/bharaniakella/Akellian_dsalgo/blob/main/bst_search.ipynb\" target=\"_parent\"><img src=\"https://colab.research.google.com/assets/colab-badge.svg\" alt=\"Open In Colab\"/></a>"
      ]
    },
    {
      "cell_type": "code",
      "execution_count": null,
      "metadata": {
        "id": "KgTz7CoDOmFg"
      },
      "outputs": [],
      "source": [
        "class Solution:\n",
        "    def searchBST(self, root: Optional[TreeNode], val: int) -> Optional[TreeNode]:\n",
        "        while(root and root.val!=val):\n",
        "            if(root.val<val):\n",
        "                root=root.right\n",
        "            else:\n",
        "                root=root.left\n",
        "        return root"
      ]
    }
  ]
}