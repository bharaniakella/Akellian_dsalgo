{
  "nbformat": 4,
  "nbformat_minor": 0,
  "metadata": {
    "colab": {
      "provenance": [],
      "authorship_tag": "ABX9TyOUhOPCLJbMyJrCydV0c/wF",
      "include_colab_link": true
    },
    "kernelspec": {
      "name": "python3",
      "display_name": "Python 3"
    },
    "language_info": {
      "name": "python"
    }
  },
  "cells": [
    {
      "cell_type": "markdown",
      "metadata": {
        "id": "view-in-github",
        "colab_type": "text"
      },
      "source": [
        "<a href=\"https://colab.research.google.com/github/bharaniakella/akellian_greatness/blob/main/start_of_loop_linked_list.ipynb\" target=\"_parent\"><img src=\"https://colab.research.google.com/assets/colab-badge.svg\" alt=\"Open In Colab\"/></a>"
      ]
    },
    {
      "cell_type": "code",
      "execution_count": null,
      "metadata": {
        "id": "jtr25MZuCVuY"
      },
      "outputs": [],
      "source": [
        "# Definition for singly-linked list.\n",
        "# class ListNode(object):\n",
        "#     def __init__(self, x):\n",
        "#         self.val = x\n",
        "#         self.next = None\n",
        "\n",
        "class Solution(object):\n",
        "    def detectCycle(self, head):\n",
        "        \"\"\"\n",
        "        :type head: ListNode\n",
        "        :rtype: ListNode\n",
        "        \"\"\"\n",
        "        slow=head\n",
        "        fast=head\n",
        "        while(fast and fast.next):\n",
        "            slow=slow.next\n",
        "            fast=fast.next.next\n",
        "            if(slow==fast):\n",
        "                slow=head\n",
        "                while(slow!=fast):\n",
        "                    slow=slow.next\n",
        "                    fast=fast.next\n",
        "                return slow\n",
        "\n",
        "        return None\n",
        ""
      ]
    }
  ]
}