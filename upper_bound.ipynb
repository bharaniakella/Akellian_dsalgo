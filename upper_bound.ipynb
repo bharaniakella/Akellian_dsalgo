{
  "nbformat": 4,
  "nbformat_minor": 0,
  "metadata": {
    "colab": {
      "provenance": [],
      "authorship_tag": "ABX9TyPaPggMIHfEVdB8qVPxXagV",
      "include_colab_link": true
    },
    "kernelspec": {
      "name": "python3",
      "display_name": "Python 3"
    },
    "language_info": {
      "name": "python"
    }
  },
  "cells": [
    {
      "cell_type": "markdown",
      "metadata": {
        "id": "view-in-github",
        "colab_type": "text"
      },
      "source": [
        "<a href=\"https://colab.research.google.com/github/bharaniakella/akellian_greatness/blob/main/upper_bound.ipynb\" target=\"_parent\"><img src=\"https://colab.research.google.com/assets/colab-badge.svg\" alt=\"Open In Colab\"/></a>"
      ]
    },
    {
      "cell_type": "code",
      "execution_count": 4,
      "metadata": {
        "id": "URLb6N2076aX"
      },
      "outputs": [],
      "source": [
        "import numpy as np\n",
        "arr=np.array([10,20,22,25,27,30])"
      ]
    },
    {
      "cell_type": "code",
      "source": [
        "def upper_bound(arr,target):\n",
        "  low=0\n",
        "  high=len(arr)-1\n",
        "  ans=len(arr)\n",
        "  while(low<=high):\n",
        "    mid=low+(high-low)//2\n",
        "    if(arr[mid]<=target):\n",
        "      low=mid+1\n",
        "    elif(arr[mid]>target):\n",
        "      ans=mid\n",
        "      high=mid-1\n",
        "  return ans"
      ],
      "metadata": {
        "id": "06I4XtcJ8B23"
      },
      "execution_count": 8,
      "outputs": []
    },
    {
      "cell_type": "code",
      "source": [
        "upper_bound(arr,10)"
      ],
      "metadata": {
        "colab": {
          "base_uri": "https://localhost:8080/"
        },
        "id": "VI_KJS728Xrg",
        "outputId": "ba188487-6c20-4c69-c54b-15f81551a327"
      },
      "execution_count": 9,
      "outputs": [
        {
          "output_type": "execute_result",
          "data": {
            "text/plain": [
              "1"
            ]
          },
          "metadata": {},
          "execution_count": 9
        }
      ]
    },
    {
      "cell_type": "code",
      "source": [],
      "metadata": {
        "id": "hqf7FqMe8bLr"
      },
      "execution_count": null,
      "outputs": []
    }
  ]
}