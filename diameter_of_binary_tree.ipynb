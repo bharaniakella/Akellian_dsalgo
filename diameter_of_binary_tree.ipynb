{
  "nbformat": 4,
  "nbformat_minor": 0,
  "metadata": {
    "colab": {
      "provenance": [],
      "authorship_tag": "ABX9TyPSOqlJRhCjOtm1vTR1OSQz",
      "include_colab_link": true
    },
    "kernelspec": {
      "name": "python3",
      "display_name": "Python 3"
    },
    "language_info": {
      "name": "python"
    }
  },
  "cells": [
    {
      "cell_type": "markdown",
      "metadata": {
        "id": "view-in-github",
        "colab_type": "text"
      },
      "source": [
        "<a href=\"https://colab.research.google.com/github/bharaniakella/akellian_greatness/blob/main/diameter_of_binary_tree.ipynb\" target=\"_parent\"><img src=\"https://colab.research.google.com/assets/colab-badge.svg\" alt=\"Open In Colab\"/></a>"
      ]
    },
    {
      "cell_type": "code",
      "execution_count": null,
      "metadata": {
        "id": "flzBFq7p83G_"
      },
      "outputs": [],
      "source": [
        "# Definition for a binary tree node.\n",
        "# class TreeNode(object):\n",
        "#     def __init__(self, val=0, left=None, right=None):\n",
        "#         self.val = val\n",
        "#         self.left = left\n",
        "#         self.right = right\n",
        "class Solution(object):\n",
        "    diameter=0\n",
        "    def diameterOfBinaryTree(self, root):\n",
        "        \"\"\"\n",
        "        :type root: TreeNode\n",
        "        :rtype: int\n",
        "        \"\"\"\n",
        "        self.find_height(root)\n",
        "\n",
        "        return self.diameter\n",
        "\n",
        "    def find_height(self,root):\n",
        "        if root == None:\n",
        "            return 0\n",
        "        lh=self.find_height(root.left)\n",
        "        rh=self.find_height(root.right)\n",
        "\n",
        "        self.diameter=max(self.diameter,lh+rh)\n",
        "\n",
        "        return 1+max(lh,rh)\n",
        ""
      ]
    }
  ]
}