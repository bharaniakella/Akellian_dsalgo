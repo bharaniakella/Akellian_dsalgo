{
  "nbformat": 4,
  "nbformat_minor": 0,
  "metadata": {
    "colab": {
      "provenance": [],
      "authorship_tag": "ABX9TyPT5umnidMIA0eo7jP9ZbED",
      "include_colab_link": true
    },
    "kernelspec": {
      "name": "python3",
      "display_name": "Python 3"
    },
    "language_info": {
      "name": "python"
    }
  },
  "cells": [
    {
      "cell_type": "markdown",
      "metadata": {
        "id": "view-in-github",
        "colab_type": "text"
      },
      "source": [
        "<a href=\"https://colab.research.google.com/github/bharaniakella/Akellian_dsalgo/blob/main/zigzag_level_order_traversal.ipynb\" target=\"_parent\"><img src=\"https://colab.research.google.com/assets/colab-badge.svg\" alt=\"Open In Colab\"/></a>"
      ]
    },
    {
      "cell_type": "code",
      "execution_count": null,
      "metadata": {
        "id": "3UFm-4pVV7F7"
      },
      "outputs": [],
      "source": [
        "from queue import Queue\n",
        "class Solution:\n",
        "    def zigzagLevelOrder(self, root: Optional[TreeNode]) -> List[List[int]]:\n",
        "        if not root:\n",
        "            return []\n",
        "\n",
        "        my_q=Queue()\n",
        "        result=[]\n",
        "        flag=True\n",
        "\n",
        "        my_q.put(root)\n",
        "\n",
        "        while(not my_q.empty()):\n",
        "            size=my_q.qsize()\n",
        "            row=[0]*size\n",
        "\n",
        "            for i in range(size):\n",
        "                node=my_q.get()\n",
        "\n",
        "                index= i if flag else size - 1 - i\n",
        "                row[index]=node.val\n",
        "\n",
        "                if(node.left):\n",
        "                    my_q.put(node.left)\n",
        "\n",
        "                if(node.right):\n",
        "                    my_q.put(node.right)\n",
        "\n",
        "            result.append(row)\n",
        "            flag = not flag\n",
        "\n",
        "        return result"
      ]
    }
  ]
}