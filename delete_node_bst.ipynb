{
  "nbformat": 4,
  "nbformat_minor": 0,
  "metadata": {
    "colab": {
      "provenance": [],
      "authorship_tag": "ABX9TyMLy+vxEahCgtSUYHIPEsia",
      "include_colab_link": true
    },
    "kernelspec": {
      "name": "python3",
      "display_name": "Python 3"
    },
    "language_info": {
      "name": "python"
    }
  },
  "cells": [
    {
      "cell_type": "markdown",
      "metadata": {
        "id": "view-in-github",
        "colab_type": "text"
      },
      "source": [
        "<a href=\"https://colab.research.google.com/github/bharaniakella/Akellian_dsalgo/blob/main/delete_node_bst.ipynb\" target=\"_parent\"><img src=\"https://colab.research.google.com/assets/colab-badge.svg\" alt=\"Open In Colab\"/></a>"
      ]
    },
    {
      "cell_type": "code",
      "execution_count": null,
      "metadata": {
        "id": "q9Vc5vD4fZG3"
      },
      "outputs": [],
      "source": [
        "class Solution:\n",
        "    def deleteNode(self, root: Optional[TreeNode], key: int) -> Optional[TreeNode]:\n",
        "\n",
        "        if(root is None):\n",
        "            return None\n",
        "\n",
        "        if(root.val==key):\n",
        "            return self.my_helper(root)\n",
        "\n",
        "        dummy = root\n",
        "        while(root):\n",
        "            if(root.val>key):\n",
        "                if(root.left is not None and root.left.val==key):\n",
        "                    root.left=self.my_helper(root.left)\n",
        "                    break\n",
        "                else:\n",
        "                    root=root.left\n",
        "            else:\n",
        "                if(root.right is not None and root.right.val==key):\n",
        "                    root.right=self.my_helper(root.right)\n",
        "                    break\n",
        "                else:\n",
        "                    root=root.right\n",
        "\n",
        "        return dummy\n",
        "\n",
        "    def my_helper(self,root):\n",
        "        if(root.left is None):\n",
        "            return root.right\n",
        "        elif(root.right is None):\n",
        "            return root.left\n",
        "\n",
        "        right_child=root.right\n",
        "        last_right=self.find_last_right(root.left)\n",
        "        last_right.right=right_child\n",
        "\n",
        "        return root.left\n",
        "\n",
        "    def find_last_right(self,root):\n",
        "        if(root.right is None):\n",
        "            return root\n",
        "        return self.find_last_right(root.right)"
      ]
    }
  ]
}