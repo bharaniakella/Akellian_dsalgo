{
  "nbformat": 4,
  "nbformat_minor": 0,
  "metadata": {
    "colab": {
      "provenance": [],
      "authorship_tag": "ABX9TyMlACovODaccLvoNBDUERUx",
      "include_colab_link": true
    },
    "kernelspec": {
      "name": "python3",
      "display_name": "Python 3"
    },
    "language_info": {
      "name": "python"
    }
  },
  "cells": [
    {
      "cell_type": "markdown",
      "metadata": {
        "id": "view-in-github",
        "colab_type": "text"
      },
      "source": [
        "<a href=\"https://colab.research.google.com/github/bharaniakella/akellian_greatness/blob/main/Tree_Basic_Creation.ipynb\" target=\"_parent\"><img src=\"https://colab.research.google.com/assets/colab-badge.svg\" alt=\"Open In Colab\"/></a>"
      ]
    },
    {
      "cell_type": "code",
      "source": [
        "class TreeNode:\n",
        "  def __init__(self,data,children=[]):\n",
        "    self.data=data\n",
        "    self.children=children\n",
        "\n",
        "  def __str__(self,level=0):\n",
        "    ret=\" \"*level + str(self.data) + \"\\n\"\n",
        "    for child in self.children:\n",
        "      ret+=child.__str__(level+1)\n",
        "    return ret\n",
        "\n",
        "  def addChild(self,TreeNode):\n",
        "    self.children.append(TreeNode)"
      ],
      "metadata": {
        "id": "5UeZS3vjlML0"
      },
      "execution_count": 11,
      "outputs": []
    },
    {
      "cell_type": "code",
      "source": [
        "tree=TreeNode('Tree',[])\n",
        "hot=TreeNode('Hot',[])\n",
        "cold=TreeNode('Cold',[])\n",
        "\n",
        "tea=TreeNode('tea',[])\n",
        "coffee=TreeNode('Coffee',[])\n",
        "\n",
        "tree.addChild(hot)\n",
        "tree.addChild(cold)\n",
        "\n",
        "hot.addChild(tea)\n",
        "hot.addChild(coffee)"
      ],
      "metadata": {
        "id": "4ss4Q16nmToe"
      },
      "execution_count": 14,
      "outputs": []
    },
    {
      "cell_type": "code",
      "source": [
        "print(tree)"
      ],
      "metadata": {
        "colab": {
          "base_uri": "https://localhost:8080/"
        },
        "id": "fzzlvFRBnF72",
        "outputId": "5b6ab3a8-1b69-4280-97e7-d2df9fae5e5e"
      },
      "execution_count": 15,
      "outputs": [
        {
          "output_type": "stream",
          "name": "stdout",
          "text": [
            "Tree\n",
            " Hot\n",
            "  tea\n",
            "  Coffee\n",
            " Cold\n",
            "\n"
          ]
        }
      ]
    },
    {
      "cell_type": "code",
      "source": [],
      "metadata": {
        "id": "o9CqeXBVnHTF"
      },
      "execution_count": null,
      "outputs": []
    }
  ]
}