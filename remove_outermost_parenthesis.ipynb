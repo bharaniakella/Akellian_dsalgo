{
  "nbformat": 4,
  "nbformat_minor": 0,
  "metadata": {
    "colab": {
      "provenance": [],
      "authorship_tag": "ABX9TyP8UyMkHuUKnNp3xHq1VFYq",
      "include_colab_link": true
    },
    "kernelspec": {
      "name": "python3",
      "display_name": "Python 3"
    },
    "language_info": {
      "name": "python"
    }
  },
  "cells": [
    {
      "cell_type": "markdown",
      "metadata": {
        "id": "view-in-github",
        "colab_type": "text"
      },
      "source": [
        "<a href=\"https://colab.research.google.com/github/bharaniakella/akellian_greatness/blob/main/remove_outermost_parenthesis.ipynb\" target=\"_parent\"><img src=\"https://colab.research.google.com/assets/colab-badge.svg\" alt=\"Open In Colab\"/></a>"
      ]
    },
    {
      "cell_type": "code",
      "execution_count": 7,
      "metadata": {
        "colab": {
          "base_uri": "https://localhost:8080/"
        },
        "id": "gXZPAJKznICc",
        "outputId": "caaeac64-ca84-48c9-b581-0b4308bcf88d"
      },
      "outputs": [
        {
          "output_type": "stream",
          "name": "stdout",
          "text": [
            "()()()()(())\n"
          ]
        }
      ],
      "source": [
        "s = \"(()())(())(()(()))\"\n",
        "\n",
        "store=\"\"\n",
        "count=0\n",
        "\n",
        "for i in s:\n",
        "  if(i==\"(\"):\n",
        "    count=count+1\n",
        "    if(count>1):\n",
        "      store=store+i\n",
        "  elif(i==\")\"):\n",
        "    count=count-1\n",
        "    if(count>0):\n",
        "      store=store+i\n",
        "print(store)\n"
      ]
    },
    {
      "cell_type": "code",
      "source": [],
      "metadata": {
        "id": "q8wy2SfCnzn9"
      },
      "execution_count": null,
      "outputs": []
    }
  ]
}